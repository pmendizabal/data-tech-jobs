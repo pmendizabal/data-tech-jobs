{
 "cells": [
  {
   "cell_type": "code",
   "execution_count": 1,
   "id": "recent-smooth",
   "metadata": {},
   "outputs": [],
   "source": [
    "import csv\n",
    "from datetime import datetime\n",
    "import requests\n",
    "from bs4 import BeautifulSoup"
   ]
  },
  {
   "cell_type": "code",
   "execution_count": null,
   "id": "manufactured-undergraduate",
   "metadata": {},
   "outputs": [],
   "source": [
    "template = 'https://mx.indeed.com/jobs?q={}&l={}&advn=4703528095913257'"
   ]
  },
  {
   "cell_type": "markdown",
   "id": "psychological-organization",
   "metadata": {},
   "source": [
    "### Create a function that brings us the url"
   ]
  },
  {
   "cell_type": "code",
   "execution_count": 2,
   "id": "dense-championship",
   "metadata": {},
   "outputs": [],
   "source": [
    "def get_url(position,location):\n",
    "    template = 'https://mx.indeed.com/jobs?q={}&l={}'\n",
    "    url = template.format(position,location)\n",
    "    return url"
   ]
  },
  {
   "cell_type": "code",
   "execution_count": 16,
   "id": "organic-prescription",
   "metadata": {},
   "outputs": [],
   "source": [
    "url = get_url('programacion','Ciudad de México')"
   ]
  },
  {
   "cell_type": "code",
   "execution_count": 17,
   "id": "static-encoding",
   "metadata": {},
   "outputs": [
    {
     "data": {
      "text/plain": [
       "<Response [200]>"
      ]
     },
     "execution_count": 17,
     "metadata": {},
     "output_type": "execute_result"
    }
   ],
   "source": [
    "##Extract raw html\n",
    "\n",
    "response = requests.get(url)\n",
    "response"
   ]
  },
  {
   "cell_type": "code",
   "execution_count": 42,
   "id": "anonymous-liechtenstein",
   "metadata": {},
   "outputs": [],
   "source": [
    "soup = BeautifulSoup(response.text,'html.parser')"
   ]
  },
  {
   "cell_type": "code",
   "execution_count": 19,
   "id": "recent-volume",
   "metadata": {},
   "outputs": [],
   "source": [
    "cards = soup.find_all('div','jobsearch-SerpJobCard')"
   ]
  },
  {
   "cell_type": "code",
   "execution_count": 20,
   "id": "brazilian-envelope",
   "metadata": {},
   "outputs": [
    {
     "data": {
      "text/plain": [
       "13"
      ]
     },
     "execution_count": 20,
     "metadata": {},
     "output_type": "execute_result"
    }
   ],
   "source": [
    "len(cards)"
   ]
  },
  {
   "cell_type": "markdown",
   "id": "wooden-spirituality",
   "metadata": {},
   "source": [
    "### Prototype the model with single record"
   ]
  },
  {
   "cell_type": "code",
   "execution_count": 21,
   "id": "registered-spoke",
   "metadata": {},
   "outputs": [],
   "source": [
    "card = cards[0]"
   ]
  },
  {
   "cell_type": "code",
   "execution_count": 22,
   "id": "stable-athletics",
   "metadata": {},
   "outputs": [],
   "source": [
    "atag = card.h2.a"
   ]
  },
  {
   "cell_type": "code",
   "execution_count": 23,
   "id": "authorized-optimum",
   "metadata": {},
   "outputs": [],
   "source": [
    "job_title = atag.get('title')"
   ]
  },
  {
   "cell_type": "code",
   "execution_count": 31,
   "id": "vital-estonia",
   "metadata": {},
   "outputs": [],
   "source": [
    "job_url = 'https://mx.indeed.com' + atag.get('href')"
   ]
  },
  {
   "cell_type": "code",
   "execution_count": 25,
   "id": "organic-transaction",
   "metadata": {},
   "outputs": [],
   "source": [
    "company = card.find('span','company').text.strip()"
   ]
  },
  {
   "cell_type": "code",
   "execution_count": 28,
   "id": "german-exception",
   "metadata": {},
   "outputs": [],
   "source": [
    "job_location = card.find('div','recJobLoc').get('data-rc-loc')"
   ]
  },
  {
   "cell_type": "code",
   "execution_count": 35,
   "id": "serial-plane",
   "metadata": {},
   "outputs": [
    {
     "data": {
      "text/plain": [
       "'Únete al mejor equipo de trabajo y vive la “Experiencia Play”. Tendrás oportunidad de desarrollar una carrera en el mejor casino de México.'"
      ]
     },
     "execution_count": 35,
     "metadata": {},
     "output_type": "execute_result"
    }
   ],
   "source": [
    "job_summary = card.find('div','summary').text.strip().replace('\\n',' ')"
   ]
  },
  {
   "cell_type": "code",
   "execution_count": 36,
   "id": "manufactured-frontier",
   "metadata": {},
   "outputs": [],
   "source": [
    "post_date = card.find('span','date').text"
   ]
  },
  {
   "cell_type": "code",
   "execution_count": 37,
   "id": "stunning-thompson",
   "metadata": {},
   "outputs": [
    {
     "data": {
      "text/plain": [
       "'2021-01-24'"
      ]
     },
     "execution_count": 37,
     "metadata": {},
     "output_type": "execute_result"
    }
   ],
   "source": [
    "today = datetime.today().strftime('%Y-%m-%d')"
   ]
  },
  {
   "cell_type": "code",
   "execution_count": 39,
   "id": "entitled-survival",
   "metadata": {},
   "outputs": [],
   "source": [
    "try:\n",
    "    job_salaray = card.find('span','salaryText').text.strip()\n",
    "except AttributeError:\n",
    "    job_salary = ''"
   ]
  },
  {
   "cell_type": "markdown",
   "id": "specialized-tokyo",
   "metadata": {},
   "source": [
    "### Create master function"
   ]
  },
  {
   "cell_type": "code",
   "execution_count": 52,
   "id": "dimensional-supplement",
   "metadata": {},
   "outputs": [],
   "source": [
    "def get_record(card):\n",
    "    atag = card.h2.a\n",
    "    job_title = atag.get('title')\n",
    "    job_url = 'https://mx.indeed.com' + atag.get('href')\n",
    "    try:\n",
    "        company = card.find('span','company').text.strip()\n",
    "    except AttributeError:\n",
    "        company = ''\n",
    "    try:\n",
    "        job_location = card.find('div','recJobLoc').get('data-rc-loc')\n",
    "    except AttributeError:\n",
    "        job_location = ''\n",
    "    try:\n",
    "        job_summary = card.find('div','summary').text.strip().replace('\\n',' ')\n",
    "    except AttributeError:\n",
    "        job_summary = ''\n",
    "    try:\n",
    "        post_date = card.find('span','date').text\n",
    "    except AttributeError:\n",
    "        post_date = ''\n",
    "    today = datetime.today().strftime('%Y-%m-%d')\n",
    "    try:\n",
    "        job_salary = card.find('span','salaryText').text.strip()\n",
    "    except AttributeError:\n",
    "        job_salary = ''\n",
    "        \n",
    "    record = (job_title,company,job_location,post_date,today,job_summary,job_salary,job_url)\n",
    "    \n",
    "    return record"
   ]
  },
  {
   "cell_type": "code",
   "execution_count": 53,
   "id": "superior-scanning",
   "metadata": {},
   "outputs": [],
   "source": [
    "records = []\n",
    "\n",
    "for card in cards:\n",
    "    record = get_record(card)\n",
    "    records.append(record)"
   ]
  },
  {
   "cell_type": "markdown",
   "id": "double-fifty",
   "metadata": {},
   "source": [
    "### How to obtain the next page?"
   ]
  },
  {
   "cell_type": "code",
   "execution_count": 59,
   "id": "forward-working",
   "metadata": {},
   "outputs": [
    {
     "ename": "AttributeError",
     "evalue": "'NoneType' object has no attribute 'text'",
     "output_type": "error",
     "traceback": [
      "\u001b[0;31m---------------------------------------------------------------------------\u001b[0m",
      "\u001b[0;31mAttributeError\u001b[0m                            Traceback (most recent call last)",
      "\u001b[0;32m<ipython-input-59-53133a634e72>\u001b[0m in \u001b[0;36m<module>\u001b[0;34m\u001b[0m\n\u001b[1;32m     10\u001b[0m \u001b[0;34m\u001b[0m\u001b[0m\n\u001b[1;32m     11\u001b[0m     \u001b[0;32mfor\u001b[0m \u001b[0mcard\u001b[0m \u001b[0;32min\u001b[0m \u001b[0mcards\u001b[0m\u001b[0;34m:\u001b[0m\u001b[0;34m\u001b[0m\u001b[0;34m\u001b[0m\u001b[0m\n\u001b[0;32m---> 12\u001b[0;31m         \u001b[0mrecord\u001b[0m \u001b[0;34m=\u001b[0m \u001b[0mget_record\u001b[0m\u001b[0;34m(\u001b[0m\u001b[0mcard\u001b[0m\u001b[0;34m)\u001b[0m\u001b[0;34m\u001b[0m\u001b[0;34m\u001b[0m\u001b[0m\n\u001b[0m\u001b[1;32m     13\u001b[0m         \u001b[0mrecords\u001b[0m\u001b[0;34m.\u001b[0m\u001b[0mappend\u001b[0m\u001b[0;34m(\u001b[0m\u001b[0mrecord\u001b[0m\u001b[0;34m)\u001b[0m\u001b[0;34m\u001b[0m\u001b[0;34m\u001b[0m\u001b[0m\n",
      "\u001b[0;32m<ipython-input-52-c9850784a749>\u001b[0m in \u001b[0;36mget_record\u001b[0;34m(card)\u001b[0m\n\u001b[1;32m      3\u001b[0m     \u001b[0mjob_title\u001b[0m \u001b[0;34m=\u001b[0m \u001b[0matag\u001b[0m\u001b[0;34m.\u001b[0m\u001b[0mget\u001b[0m\u001b[0;34m(\u001b[0m\u001b[0;34m'title'\u001b[0m\u001b[0;34m)\u001b[0m\u001b[0;34m\u001b[0m\u001b[0;34m\u001b[0m\u001b[0m\n\u001b[1;32m      4\u001b[0m     \u001b[0mjob_url\u001b[0m \u001b[0;34m=\u001b[0m \u001b[0;34m'https://mx.indeed.com'\u001b[0m \u001b[0;34m+\u001b[0m \u001b[0matag\u001b[0m\u001b[0;34m.\u001b[0m\u001b[0mget\u001b[0m\u001b[0;34m(\u001b[0m\u001b[0;34m'href'\u001b[0m\u001b[0;34m)\u001b[0m\u001b[0;34m\u001b[0m\u001b[0;34m\u001b[0m\u001b[0m\n\u001b[0;32m----> 5\u001b[0;31m     \u001b[0mcompany\u001b[0m \u001b[0;34m=\u001b[0m \u001b[0mcard\u001b[0m\u001b[0;34m.\u001b[0m\u001b[0mfind\u001b[0m\u001b[0;34m(\u001b[0m\u001b[0;34m'span'\u001b[0m\u001b[0;34m,\u001b[0m\u001b[0;34m'company'\u001b[0m\u001b[0;34m)\u001b[0m\u001b[0;34m.\u001b[0m\u001b[0mtext\u001b[0m\u001b[0;34m.\u001b[0m\u001b[0mstrip\u001b[0m\u001b[0;34m(\u001b[0m\u001b[0;34m)\u001b[0m\u001b[0;34m\u001b[0m\u001b[0;34m\u001b[0m\u001b[0m\n\u001b[0m\u001b[1;32m      6\u001b[0m     \u001b[0mjob_location\u001b[0m \u001b[0;34m=\u001b[0m \u001b[0mcard\u001b[0m\u001b[0;34m.\u001b[0m\u001b[0mfind\u001b[0m\u001b[0;34m(\u001b[0m\u001b[0;34m'div'\u001b[0m\u001b[0;34m,\u001b[0m\u001b[0;34m'recJobLoc'\u001b[0m\u001b[0;34m)\u001b[0m\u001b[0;34m.\u001b[0m\u001b[0mget\u001b[0m\u001b[0;34m(\u001b[0m\u001b[0;34m'data-rc-loc'\u001b[0m\u001b[0;34m)\u001b[0m\u001b[0;34m\u001b[0m\u001b[0;34m\u001b[0m\u001b[0m\n\u001b[1;32m      7\u001b[0m     \u001b[0mjob_summary\u001b[0m \u001b[0;34m=\u001b[0m \u001b[0mcard\u001b[0m\u001b[0;34m.\u001b[0m\u001b[0mfind\u001b[0m\u001b[0;34m(\u001b[0m\u001b[0;34m'div'\u001b[0m\u001b[0;34m,\u001b[0m\u001b[0;34m'summary'\u001b[0m\u001b[0;34m)\u001b[0m\u001b[0;34m.\u001b[0m\u001b[0mtext\u001b[0m\u001b[0;34m.\u001b[0m\u001b[0mstrip\u001b[0m\u001b[0;34m(\u001b[0m\u001b[0;34m)\u001b[0m\u001b[0;34m.\u001b[0m\u001b[0mreplace\u001b[0m\u001b[0;34m(\u001b[0m\u001b[0;34m'\\n'\u001b[0m\u001b[0;34m,\u001b[0m\u001b[0;34m' '\u001b[0m\u001b[0;34m)\u001b[0m\u001b[0;34m\u001b[0m\u001b[0;34m\u001b[0m\u001b[0m\n",
      "\u001b[0;31mAttributeError\u001b[0m: 'NoneType' object has no attribute 'text'"
     ]
    }
   ],
   "source": [
    "while True:\n",
    "    try:\n",
    "        url = 'https://mx.indeed.com' + soup.find('a', {'aria-label': \"Siguiente »\"}).get('href')\n",
    "    except AttributeError:\n",
    "        break\n",
    "        \n",
    "    response = requests.get(url)\n",
    "    soup = BeautifulSoup(response.text, 'html.parser')\n",
    "    cards = soup.find_all('div', 'jobsearch-SerpJobCard')\n",
    "    \n",
    "    for card in cards:\n",
    "        record = get_record(card)\n",
    "        records.append(record)"
   ]
  },
  {
   "cell_type": "code",
   "execution_count": 60,
   "id": "qualified-reproduction",
   "metadata": {},
   "outputs": [
    {
     "data": {
      "text/plain": [
       "376"
      ]
     },
     "execution_count": 60,
     "metadata": {},
     "output_type": "execute_result"
    }
   ],
   "source": [
    "len(records)"
   ]
  },
  {
   "cell_type": "code",
   "execution_count": 61,
   "id": "serious-sapphire",
   "metadata": {},
   "outputs": [],
   "source": [
    "with open('tech_jobs.csv', 'w', newline = '', encoding='utf-8') as f:\n",
    "    writer = csv.writer(f)\n",
    "    writer.writerow(['Title','Company','Location','Postdate','ExtractDate','Summary','Salary','JobURL'])\n",
    "    writer.writerows(records)"
   ]
  },
  {
   "cell_type": "code",
   "execution_count": null,
   "id": "collective-terminology",
   "metadata": {},
   "outputs": [],
   "source": []
  }
 ],
 "metadata": {
  "kernelspec": {
   "display_name": "Python 3",
   "language": "python",
   "name": "python3"
  },
  "language_info": {
   "codemirror_mode": {
    "name": "ipython",
    "version": 3
   },
   "file_extension": ".py",
   "mimetype": "text/x-python",
   "name": "python",
   "nbconvert_exporter": "python",
   "pygments_lexer": "ipython3",
   "version": "3.7.5"
  }
 },
 "nbformat": 4,
 "nbformat_minor": 5
}
