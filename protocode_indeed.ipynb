{
 "cells": [
  {
   "cell_type": "code",
   "execution_count": 1,
   "id": "exotic-damages",
   "metadata": {},
   "outputs": [],
   "source": [
    "import csv\n",
    "from datetime import datetime\n",
    "import requests\n",
    "from bs4 import BeautifulSoup"
   ]
  },
  {
   "cell_type": "markdown",
   "id": "referenced-ecuador",
   "metadata": {},
   "source": [
    "### Create a function that brings us the url"
   ]
  },
  {
   "cell_type": "code",
   "execution_count": 28,
   "id": "backed-integer",
   "metadata": {},
   "outputs": [],
   "source": [
    "def get_url(position):\n",
    "    template = 'https://mx.indeed.com/jobs?q={}&l='\n",
    "    url = template.format(position)\n",
    "    return url"
   ]
  },
  {
   "cell_type": "code",
   "execution_count": 29,
   "id": "specialized-tanzania",
   "metadata": {},
   "outputs": [],
   "source": [
    "url = get_url('desarrollador+web')"
   ]
  },
  {
   "cell_type": "code",
   "execution_count": 30,
   "id": "settled-special",
   "metadata": {},
   "outputs": [
    {
     "data": {
      "text/plain": [
       "<Response [200]>"
      ]
     },
     "execution_count": 30,
     "metadata": {},
     "output_type": "execute_result"
    }
   ],
   "source": [
    "##Extract raw html\n",
    "\n",
    "response = requests.get(url)\n",
    "response"
   ]
  },
  {
   "cell_type": "code",
   "execution_count": 31,
   "id": "danish-relations",
   "metadata": {},
   "outputs": [],
   "source": [
    "soup = BeautifulSoup(response.text,'html.parser')"
   ]
  },
  {
   "cell_type": "code",
   "execution_count": 32,
   "id": "practical-nicholas",
   "metadata": {},
   "outputs": [],
   "source": [
    "cards = soup.find_all('div','jobsearch-SerpJobCard')"
   ]
  },
  {
   "cell_type": "code",
   "execution_count": 33,
   "id": "fluid-final",
   "metadata": {},
   "outputs": [
    {
     "data": {
      "text/plain": [
       "15"
      ]
     },
     "execution_count": 33,
     "metadata": {},
     "output_type": "execute_result"
    }
   ],
   "source": [
    "len(cards)"
   ]
  },
  {
   "cell_type": "markdown",
   "id": "veterinary-preliminary",
   "metadata": {},
   "source": [
    "### Prototype the model with single record"
   ]
  },
  {
   "cell_type": "code",
   "execution_count": 18,
   "id": "dominant-speed",
   "metadata": {},
   "outputs": [],
   "source": [
    "card = cards[0]"
   ]
  },
  {
   "cell_type": "code",
   "execution_count": 19,
   "id": "offshore-burke",
   "metadata": {},
   "outputs": [],
   "source": [
    "atag = card.h2.a"
   ]
  },
  {
   "cell_type": "code",
   "execution_count": 20,
   "id": "chubby-welsh",
   "metadata": {},
   "outputs": [
    {
     "data": {
      "text/plain": [
       "'Desarrollador Back-end'"
      ]
     },
     "execution_count": 20,
     "metadata": {},
     "output_type": "execute_result"
    }
   ],
   "source": [
    "job_title = atag.get('title')\n",
    "job_title"
   ]
  },
  {
   "cell_type": "code",
   "execution_count": 21,
   "id": "boring-rendering",
   "metadata": {},
   "outputs": [
    {
     "data": {
      "text/plain": [
       "'https://mx.indeed.com/pagead/clk?mo=r&ad=-6NYlbfkN0CtmNdXQ2jCRnYz3MNwlgmu5VmVyG8nfi1qv3ecxLxLktQ2j3TX0n5nWYD97d_4m8rQ10xoAeOEe73yaAE5r4MuRA3dHALm15uUxKH5ZEetR9UoMtS9ZODZXgj48X9f1ZhsrwLlv25e12vWKD_jrIYo8KulWChv2Xjys4xySb9eH-9J8Qo_UonCIWbz8FOYbCf4rMGh_rkRkbT1AXp6SFj0hxvmIfeGVS15jl5iAy35HOSvxr9MP_oBj5IKZn9W842aLw5yCfQTC32U8u1k-gLVZ1si-qVpTnRecpOzqBDP6KH1lLhucqsLNpigTl2uTg32huQQAZfS98ZkzNfhzDF-4PY2f2_W2WDXPXsi6WIEzuDo8eDmNzAW3yPc7OMyRw-20kMGygDr1M0JkgXVR_Yg4Q96P71BitrpkUB9vx89B0oW56lcTySpKfVWqrVO8P56OFMmKiiWDXoiCSIK10wMnACSz57EfMo=&p=0&fvj=1&vjs=3'"
      ]
     },
     "execution_count": 21,
     "metadata": {},
     "output_type": "execute_result"
    }
   ],
   "source": [
    "job_url = 'https://mx.indeed.com' + atag.get('href')\n",
    "job_url"
   ]
  },
  {
   "cell_type": "code",
   "execution_count": 22,
   "id": "illegal-acting",
   "metadata": {},
   "outputs": [
    {
     "data": {
      "text/plain": [
       "'IPCom'"
      ]
     },
     "execution_count": 22,
     "metadata": {},
     "output_type": "execute_result"
    }
   ],
   "source": [
    "company = card.find('span','company').text.strip()\n",
    "company"
   ]
  },
  {
   "cell_type": "code",
   "execution_count": 23,
   "id": "encouraging-bloom",
   "metadata": {},
   "outputs": [
    {
     "data": {
      "text/plain": [
       "'Benito Juárez, CDMX'"
      ]
     },
     "execution_count": 23,
     "metadata": {},
     "output_type": "execute_result"
    }
   ],
   "source": [
    "job_location = card.find('div','recJobLoc').get('data-rc-loc')\n",
    "job_location"
   ]
  },
  {
   "cell_type": "code",
   "execution_count": 35,
   "id": "agreed-vacuum",
   "metadata": {},
   "outputs": [
    {
     "data": {
      "text/plain": [
       "'Únete al mejor equipo de trabajo y vive la “Experiencia Play”. Tendrás oportunidad de desarrollar una carrera en el mejor casino de México.'"
      ]
     },
     "execution_count": 35,
     "metadata": {},
     "output_type": "execute_result"
    }
   ],
   "source": [
    "job_summary = card.find('div','summary').text.strip().replace('\\n',' ')"
   ]
  },
  {
   "cell_type": "code",
   "execution_count": 36,
   "id": "statutory-planet",
   "metadata": {},
   "outputs": [],
   "source": [
    "post_date = card.find('span','date').text"
   ]
  },
  {
   "cell_type": "code",
   "execution_count": 37,
   "id": "distinguished-cause",
   "metadata": {},
   "outputs": [
    {
     "data": {
      "text/plain": [
       "'2021-01-24'"
      ]
     },
     "execution_count": 37,
     "metadata": {},
     "output_type": "execute_result"
    }
   ],
   "source": [
    "today = datetime.today().strftime('%Y-%m-%d')"
   ]
  },
  {
   "cell_type": "code",
   "execution_count": 39,
   "id": "signal-monaco",
   "metadata": {},
   "outputs": [],
   "source": [
    "try:\n",
    "    job_salaray = card.find('span','salaryText').text.strip()\n",
    "except AttributeError:\n",
    "    job_salary = ''"
   ]
  },
  {
   "cell_type": "markdown",
   "id": "photographic-shoot",
   "metadata": {},
   "source": [
    "### Create master function"
   ]
  },
  {
   "cell_type": "code",
   "execution_count": 34,
   "id": "photographic-shepherd",
   "metadata": {},
   "outputs": [],
   "source": [
    "def get_record(card):\n",
    "    atag = card.h2.a\n",
    "    job_title = atag.get('title')\n",
    "    job_url = 'https://mx.indeed.com' + atag.get('href')\n",
    "    try:\n",
    "        company = card.find('span','company').text.strip()\n",
    "    except AttributeError:\n",
    "        company = ''\n",
    "    try:\n",
    "        job_location = card.find('div','recJobLoc').get('data-rc-loc')\n",
    "    except AttributeError:\n",
    "        job_location = ''\n",
    "    try:\n",
    "        job_summary = card.find('div','summary').text.strip().replace('\\n',' ')\n",
    "    except AttributeError:\n",
    "        job_summary = ''\n",
    "    try:\n",
    "        post_date = card.find('span','date').text\n",
    "    except AttributeError:\n",
    "        post_date = ''\n",
    "    today = datetime.today().strftime('%Y-%m-%d')\n",
    "    try:\n",
    "        job_salary = card.find('span','salaryText').text.strip()\n",
    "    except AttributeError:\n",
    "        job_salary = ''\n",
    "        \n",
    "    record = (job_title,company,job_location,post_date,today,job_summary,job_salary,job_url)\n",
    "    \n",
    "    return record"
   ]
  },
  {
   "cell_type": "code",
   "execution_count": null,
   "id": "bored-forty",
   "metadata": {},
   "outputs": [],
   "source": [
    "records = []\n",
    "\n",
    "for card in cards:\n",
    "    record = get_record(card)\n",
    "    records.append(record)\n",
    "    \n",
    "records"
   ]
  },
  {
   "cell_type": "markdown",
   "id": "naval-mainland",
   "metadata": {},
   "source": [
    "### How to obtain the next page?"
   ]
  },
  {
   "cell_type": "code",
   "execution_count": 36,
   "id": "roman-lighter",
   "metadata": {},
   "outputs": [],
   "source": [
    "while True:\n",
    "    try:\n",
    "        url = 'https://mx.indeed.com' + soup.find('a', {'aria-label': \"Siguiente »\"}).get('href')\n",
    "    except AttributeError:\n",
    "        break\n",
    "        \n",
    "    response = requests.get(url)\n",
    "    soup = BeautifulSoup(response.text, 'html.parser')\n",
    "    cards = soup.find_all('div', 'jobsearch-SerpJobCard')\n",
    "    \n",
    "    for card in cards:\n",
    "        record = get_record(card)\n",
    "        records.append(record)"
   ]
  },
  {
   "cell_type": "code",
   "execution_count": 37,
   "id": "sixth-brake",
   "metadata": {},
   "outputs": [
    {
     "data": {
      "text/plain": [
       "750"
      ]
     },
     "execution_count": 37,
     "metadata": {},
     "output_type": "execute_result"
    }
   ],
   "source": [
    "len(records)"
   ]
  },
  {
   "cell_type": "code",
   "execution_count": 38,
   "id": "genuine-heart",
   "metadata": {},
   "outputs": [],
   "source": [
    "with open('desarrollador+web.csv', 'w', newline = '', encoding='utf-8') as f:\n",
    "    writer = csv.writer(f)\n",
    "    writer.writerow(['Title','Company','Location','Postdate','ExtractDate','Summary','Salary','JobURL'])\n",
    "    writer.writerows(records)"
   ]
  },
  {
   "cell_type": "code",
   "execution_count": null,
   "id": "palestinian-frame",
   "metadata": {},
   "outputs": [],
   "source": []
  }
 ],
 "metadata": {
  "kernelspec": {
   "display_name": "Python 3",
   "language": "python",
   "name": "python3"
  },
  "language_info": {
   "codemirror_mode": {
    "name": "ipython",
    "version": 3
   },
   "file_extension": ".py",
   "mimetype": "text/x-python",
   "name": "python",
   "nbconvert_exporter": "python",
   "pygments_lexer": "ipython3",
   "version": "3.8.5"
  }
 },
 "nbformat": 4,
 "nbformat_minor": 5
}
