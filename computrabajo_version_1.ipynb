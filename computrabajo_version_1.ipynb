{
 "cells": [
  {
   "cell_type": "code",
   "execution_count": 16,
   "id": "accepted-azerbaijan",
   "metadata": {},
   "outputs": [],
   "source": [
    "import requests\n",
    "from bs4 import BeautifulSoup\n",
    "import selenium \n",
    "import urllib\n",
    "import pandas as pd\n",
    "from time import sleep"
   ]
  },
  {
   "cell_type": "markdown",
   "id": "running-visit",
   "metadata": {},
   "source": [
    "### Create function to request page"
   ]
  },
  {
   "cell_type": "code",
   "execution_count": 3,
   "id": "several-benjamin",
   "metadata": {},
   "outputs": [],
   "source": [
    "def get_url(position):\n",
    "    template = 'https://www.computrabajo.com.mx/trabajo-de-{}?q={}'\n",
    "    url = template.format(position,position)\n",
    "    return url"
   ]
  },
  {
   "cell_type": "markdown",
   "id": "lucky-norwegian",
   "metadata": {},
   "source": [
    "### How to change page"
   ]
  },
  {
   "cell_type": "code",
   "execution_count": null,
   "id": "hybrid-scene",
   "metadata": {},
   "outputs": [],
   "source": [
    "while True:\n",
    "    try:\n",
    "        for i in range(2,31):\n",
    "            url_original = get_url('programador') ##Introducir la palabra clave\n",
    "            url_1 = x +'&p={}'\n",
    "            page = requests.get(url_1.format(i))\n",
    "    except:\n",
    "        break\n",
    "        \n",
    "    soup = BeautifulSoup(page.content, \"html.parser\")\n",
    "    cards = soup.find_all('div','iO')\n",
    "    \n",
    "    \n",
    "    sleep(5)"
   ]
  },
  {
   "cell_type": "markdown",
   "id": "encouraging-survival",
   "metadata": {},
   "source": [
    "### Master function to scrape"
   ]
  },
  {
   "cell_type": "code",
   "execution_count": 10,
   "id": "agricultural-planet",
   "metadata": {},
   "outputs": [
    {
     "name": "stdout",
     "output_type": "stream",
     "text": [
      "3\n",
      "4\n",
      "5\n"
     ]
    }
   ],
   "source": [
    "x = range(3, 6)\n",
    "\n",
    "for n in x:\n",
    "  print(n)"
   ]
  },
  {
   "cell_type": "code",
   "execution_count": null,
   "id": "through-genome",
   "metadata": {},
   "outputs": [],
   "source": []
  }
 ],
 "metadata": {
  "kernelspec": {
   "display_name": "Python 3",
   "language": "python",
   "name": "python3"
  },
  "language_info": {
   "codemirror_mode": {
    "name": "ipython",
    "version": 3
   },
   "file_extension": ".py",
   "mimetype": "text/x-python",
   "name": "python",
   "nbconvert_exporter": "python",
   "pygments_lexer": "ipython3",
   "version": "3.8.5"
  }
 },
 "nbformat": 4,
 "nbformat_minor": 5
}
