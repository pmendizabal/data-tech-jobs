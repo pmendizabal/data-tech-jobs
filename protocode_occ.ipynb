{
 "cells": [
  {
   "cell_type": "code",
   "execution_count": 1,
   "id": "level-insert",
   "metadata": {},
   "outputs": [],
   "source": [
    "import requests\n",
    "from bs4 import BeautifulSoup\n",
    "import selenium \n",
    "import urllib\n",
    "import pandas as pd\n",
    "import os \n",
    "from selenium import webdriver\n",
    "from selenium.webdriver.support.ui import WebDriverWait"
   ]
  },
  {
   "cell_type": "code",
   "execution_count": 2,
   "id": "yellow-pitch",
   "metadata": {},
   "outputs": [],
   "source": [
    "url = 'https://www.occ.com.mx/empleos/de-programador/en-ciudad-de-mexico/'\n",
    "page = requests.get(url)\n",
    "soup = BeautifulSoup(page.content, \"html.parser\")\n",
    "\n",
    "#job_soup = soup.find(\"div\",class_='c0129')"
   ]
  },
  {
   "cell_type": "code",
   "execution_count": 9,
   "id": "rental-lawrence",
   "metadata": {},
   "outputs": [],
   "source": [
    "for divs in soup.find_all('div', class_='c0130 c01123 c01203'):\n",
    "    urls = [item.get(\"href\") for item in divs.find_all('a')]"
   ]
  },
  {
   "cell_type": "code",
   "execution_count": null,
   "id": "rocky-parcel",
   "metadata": {},
   "outputs": [],
   "source": [
    "urls_finals = list(dict.fromkeys(urls))\n",
    "urls_finals"
   ]
  },
  {
   "cell_type": "code",
   "execution_count": null,
   "id": "hearing-official",
   "metadata": {},
   "outputs": [],
   "source": [
    "clean_url = [x for x in urls_finals if x.startswith('/empleo/oferta/')]\n",
    "clean_url"
   ]
  },
  {
   "cell_type": "code",
   "execution_count": 12,
   "id": "interested-apollo",
   "metadata": {},
   "outputs": [
    {
     "data": {
      "text/plain": [
       "['https://www.occ.com.mx/empleo/oferta/13423824-desarrollador-ios-jr?ai=false&origin=unknown&page=1&rank=1&returnURL=%2Fempleos%2Fde-programador%2Fen-ciudad-de-mexico%2F%231-premium&sessionid=4fe10fdb-2e10-4fcb-866e-2f06da3f1629&showseo=true&type=3&userid=&utm_channel=premium&utm_origin=web&uuid=4222d876-d104-4e6c-bd78-287110b5ff55',\n",
       " 'https://www.occ.com.mx/empleo/oferta/13423801-desarrollador-web?ai=false&origin=unknown&page=1&rank=2&returnURL=%2Fempleos%2Fde-programador%2Fen-ciudad-de-mexico%2F%232-premium&sessionid=4fe10fdb-2e10-4fcb-866e-2f06da3f1629&showseo=true&type=3&userid=&utm_channel=premium&utm_origin=web&uuid=4222d876-d104-4e6c-bd78-287110b5ff55',\n",
       " 'https://www.occ.com.mx/empleo/oferta/13223634-application-developer?ai=false&origin=unknown&page=1&rank=1&returnURL=%2Fempleos%2Fde-programador%2Fen-ciudad-de-mexico%2F%231&sessionid=4fe10fdb-2e10-4fcb-866e-2f06da3f1629&showseo=true&type=0&userid=&utm_channel=serp&utm_origin=web&uuid=4222d876-d104-4e6c-bd78-287110b5ff55',\n",
       " 'https://www.occ.com.mx/empleo/oferta/13281258-aws-developer?ai=false&origin=unknown&page=1&rank=2&returnURL=%2Fempleos%2Fde-programador%2Fen-ciudad-de-mexico%2F%232&sessionid=4fe10fdb-2e10-4fcb-866e-2f06da3f1629&showseo=true&type=0&userid=&utm_channel=serp&utm_origin=web&uuid=4222d876-d104-4e6c-bd78-287110b5ff55',\n",
       " 'https://www.occ.com.mx/empleo/oferta/13172246-ios-developer?ai=false&origin=unknown&page=1&rank=3&returnURL=%2Fempleos%2Fde-programador%2Fen-ciudad-de-mexico%2F%233&sessionid=4fe10fdb-2e10-4fcb-866e-2f06da3f1629&showseo=true&type=0&userid=&utm_channel=serp&utm_origin=web&uuid=4222d876-d104-4e6c-bd78-287110b5ff55',\n",
       " 'https://www.occ.com.mx/empleo/oferta/13145946-python-developer?ai=false&origin=unknown&page=1&rank=4&returnURL=%2Fempleos%2Fde-programador%2Fen-ciudad-de-mexico%2F%234&sessionid=4fe10fdb-2e10-4fcb-866e-2f06da3f1629&showseo=true&type=0&userid=&utm_channel=serp&utm_origin=web&uuid=4222d876-d104-4e6c-bd78-287110b5ff55',\n",
       " 'https://www.occ.com.mx/empleo/oferta/13217316-node-js-developer?ai=false&origin=unknown&page=1&rank=5&returnURL=%2Fempleos%2Fde-programador%2Fen-ciudad-de-mexico%2F%235&sessionid=4fe10fdb-2e10-4fcb-866e-2f06da3f1629&showseo=true&type=0&userid=&utm_channel=serp&utm_origin=web&uuid=4222d876-d104-4e6c-bd78-287110b5ff55',\n",
       " 'https://www.occ.com.mx/empleo/oferta/13181291-java-developer-mty-?ai=false&origin=unknown&page=1&rank=6&returnURL=%2Fempleos%2Fde-programador%2Fen-ciudad-de-mexico%2F%236&sessionid=4fe10fdb-2e10-4fcb-866e-2f06da3f1629&showseo=true&type=0&userid=&utm_channel=serp&utm_origin=web&uuid=4222d876-d104-4e6c-bd78-287110b5ff55',\n",
       " 'https://www.occ.com.mx/empleo/oferta/13349596-java-sr-developer?ai=false&origin=unknown&page=1&rank=7&returnURL=%2Fempleos%2Fde-programador%2Fen-ciudad-de-mexico%2F%237&sessionid=4fe10fdb-2e10-4fcb-866e-2f06da3f1629&showseo=true&type=0&userid=&utm_channel=serp&utm_origin=web&uuid=4222d876-d104-4e6c-bd78-287110b5ff55',\n",
       " 'https://www.occ.com.mx/empleo/oferta/13402433-java-developer-cdmx-?ai=false&origin=unknown&page=1&rank=8&returnURL=%2Fempleos%2Fde-programador%2Fen-ciudad-de-mexico%2F%238&sessionid=4fe10fdb-2e10-4fcb-866e-2f06da3f1629&showseo=true&type=0&userid=&utm_channel=serp&utm_origin=web&uuid=4222d876-d104-4e6c-bd78-287110b5ff55',\n",
       " 'https://www.occ.com.mx/empleo/oferta/13077423-sr-full-stack-developer?ai=false&origin=unknown&page=1&rank=9&returnURL=%2Fempleos%2Fde-programador%2Fen-ciudad-de-mexico%2F%239&sessionid=4fe10fdb-2e10-4fcb-866e-2f06da3f1629&showseo=true&type=0&userid=&utm_channel=serp&utm_origin=web&uuid=4222d876-d104-4e6c-bd78-287110b5ff55',\n",
       " 'https://www.occ.com.mx/empleo/oferta/13364452-microsoft-dynamics-crm-developer?ai=false&origin=unknown&page=1&rank=10&returnURL=%2Fempleos%2Fde-programador%2Fen-ciudad-de-mexico%2F%2310&sessionid=4fe10fdb-2e10-4fcb-866e-2f06da3f1629&showseo=true&type=0&userid=&utm_channel=serp&utm_origin=web&uuid=4222d876-d104-4e6c-bd78-287110b5ff55',\n",
       " 'https://www.occ.com.mx/empleo/oferta/13386935-salesforce-advanced-developer?ai=false&origin=unknown&page=1&rank=11&returnURL=%2Fempleos%2Fde-programador%2Fen-ciudad-de-mexico%2F%2311&sessionid=4fe10fdb-2e10-4fcb-866e-2f06da3f1629&showseo=true&type=0&userid=&utm_channel=serp&utm_origin=web&uuid=4222d876-d104-4e6c-bd78-287110b5ff55',\n",
       " 'https://www.occ.com.mx/empleo/oferta/13408053-snr-net-developer?ai=false&origin=unknown&page=1&rank=12&returnURL=%2Fempleos%2Fde-programador%2Fen-ciudad-de-mexico%2F%2312&sessionid=4fe10fdb-2e10-4fcb-866e-2f06da3f1629&showseo=true&type=0&userid=&utm_channel=serp&utm_origin=web&uuid=4222d876-d104-4e6c-bd78-287110b5ff55',\n",
       " 'https://www.occ.com.mx/empleo/oferta/13145949-etl-developer-informatica-power-center-?ai=false&origin=unknown&page=1&rank=13&returnURL=%2Fempleos%2Fde-programador%2Fen-ciudad-de-mexico%2F%2313&sessionid=4fe10fdb-2e10-4fcb-866e-2f06da3f1629&showseo=true&type=0&userid=&utm_channel=serp&utm_origin=web&uuid=4222d876-d104-4e6c-bd78-287110b5ff55',\n",
       " 'https://www.occ.com.mx/empleo/oferta/13425429-programador-de-macros?ai=false&origin=unknown&page=1&rank=14&returnURL=%2Fempleos%2Fde-programador%2Fen-ciudad-de-mexico%2F%2314&sessionid=4fe10fdb-2e10-4fcb-866e-2f06da3f1629&showseo=true&type=0&userid=&utm_channel=serp&utm_origin=web&uuid=4222d876-d104-4e6c-bd78-287110b5ff55',\n",
       " 'https://www.occ.com.mx/empleo/oferta/13424693-desarrollador-cobol?ai=false&origin=unknown&page=1&rank=15&returnURL=%2Fempleos%2Fde-programador%2Fen-ciudad-de-mexico%2F%2315&sessionid=4fe10fdb-2e10-4fcb-866e-2f06da3f1629&showseo=true&type=0&userid=&utm_channel=serp&utm_origin=web&uuid=4222d876-d104-4e6c-bd78-287110b5ff55',\n",
       " 'https://www.occ.com.mx/empleo/oferta/13424662-desarrollador-java?ai=false&origin=unknown&page=1&rank=16&returnURL=%2Fempleos%2Fde-programador%2Fen-ciudad-de-mexico%2F%2316&sessionid=4fe10fdb-2e10-4fcb-866e-2f06da3f1629&showseo=true&type=0&userid=&utm_channel=serp&utm_origin=web&uuid=4222d876-d104-4e6c-bd78-287110b5ff55',\n",
       " 'https://www.occ.com.mx/empleo/oferta/13424491-rpa-desarrollador?ai=false&origin=unknown&page=1&rank=17&returnURL=%2Fempleos%2Fde-programador%2Fen-ciudad-de-mexico%2F%2317&sessionid=4fe10fdb-2e10-4fcb-866e-2f06da3f1629&showseo=true&type=0&userid=&utm_channel=serp&utm_origin=web&uuid=4222d876-d104-4e6c-bd78-287110b5ff55',\n",
       " 'https://www.occ.com.mx/empleo/oferta/13054138-net-full-stack-developer-with-angular-experience?ai=false&origin=unknown&page=1&rank=18&returnURL=%2Fempleos%2Fde-programador%2Fen-ciudad-de-mexico%2F%2318&sessionid=4fe10fdb-2e10-4fcb-866e-2f06da3f1629&showseo=true&type=0&userid=&utm_channel=serp&utm_origin=web&uuid=4222d876-d104-4e6c-bd78-287110b5ff55',\n",
       " 'https://www.occ.com.mx/empleo/oferta/13423695-desarrollador-ipc?ai=false&origin=unknown&page=1&rank=19&returnURL=%2Fempleos%2Fde-programador%2Fen-ciudad-de-mexico%2F%2319&sessionid=4fe10fdb-2e10-4fcb-866e-2f06da3f1629&showseo=true&type=0&userid=&utm_channel=serp&utm_origin=web&uuid=4222d876-d104-4e6c-bd78-287110b5ff55',\n",
       " 'https://www.occ.com.mx/empleo/oferta/13424713-desarrollador-java-fullstack?ai=false&origin=unknown&page=1&rank=20&returnURL=%2Fempleos%2Fde-programador%2Fen-ciudad-de-mexico%2F%2320&sessionid=4fe10fdb-2e10-4fcb-866e-2f06da3f1629&showseo=true&type=0&userid=&utm_channel=serp&utm_origin=web&uuid=4222d876-d104-4e6c-bd78-287110b5ff55',\n",
       " 'https://www.occ.com.mx/empleo/oferta/13424228-desarrollador-front-end?ai=false&origin=unknown&page=1&rank=21&returnURL=%2Fempleos%2Fde-programador%2Fen-ciudad-de-mexico%2F%2321&sessionid=4fe10fdb-2e10-4fcb-866e-2f06da3f1629&showseo=true&type=0&userid=&utm_channel=serp&utm_origin=web&uuid=4222d876-d104-4e6c-bd78-287110b5ff55',\n",
       " 'https://www.occ.com.mx/empleo/oferta/13424176-desarrollador-front-end?ai=false&origin=unknown&page=1&rank=22&returnURL=%2Fempleos%2Fde-programador%2Fen-ciudad-de-mexico%2F%2322&sessionid=4fe10fdb-2e10-4fcb-866e-2f06da3f1629&showseo=true&type=0&userid=&utm_channel=serp&utm_origin=web&uuid=4222d876-d104-4e6c-bd78-287110b5ff55',\n",
       " 'https://www.occ.com.mx/empleo/oferta/13425051-desarrollador-net-ingles-avanzado?ai=false&origin=unknown&page=1&rank=23&returnURL=%2Fempleos%2Fde-programador%2Fen-ciudad-de-mexico%2F%2323&sessionid=4fe10fdb-2e10-4fcb-866e-2f06da3f1629&showseo=true&type=0&userid=&utm_channel=serp&utm_origin=web&uuid=4222d876-d104-4e6c-bd78-287110b5ff55',\n",
       " 'https://www.occ.com.mx/empleo/oferta/13426093-desarrollador-fullstack-senior?ai=false&origin=unknown&page=1&rank=24&returnURL=%2Fempleos%2Fde-programador%2Fen-ciudad-de-mexico%2F%2324&sessionid=4fe10fdb-2e10-4fcb-866e-2f06da3f1629&showseo=true&type=0&userid=&utm_channel=serp&utm_origin=web&uuid=4222d876-d104-4e6c-bd78-287110b5ff55',\n",
       " 'https://www.occ.com.mx/empleo/oferta/13424513-desarrollador-java-spring-boot?ai=false&origin=unknown&page=1&rank=25&returnURL=%2Fempleos%2Fde-programador%2Fen-ciudad-de-mexico%2F%2325&sessionid=4fe10fdb-2e10-4fcb-866e-2f06da3f1629&showseo=true&type=0&userid=&utm_channel=serp&utm_origin=web&uuid=4222d876-d104-4e6c-bd78-287110b5ff55',\n",
       " 'https://www.occ.com.mx/empleo/oferta/13425022-desarrollador-net?ai=false&origin=unknown&page=1&rank=26&returnURL=%2Fempleos%2Fde-programador%2Fen-ciudad-de-mexico%2F%2326&sessionid=4fe10fdb-2e10-4fcb-866e-2f06da3f1629&showseo=true&type=0&userid=&utm_channel=serp&utm_origin=web&uuid=4222d876-d104-4e6c-bd78-287110b5ff55',\n",
       " 'https://www.occ.com.mx/empleo/oferta/13424262-analista-desarrollador-java-jr-?ai=false&origin=unknown&page=1&rank=27&returnURL=%2Fempleos%2Fde-programador%2Fen-ciudad-de-mexico%2F%2327&sessionid=4fe10fdb-2e10-4fcb-866e-2f06da3f1629&showseo=true&type=0&userid=&utm_channel=serp&utm_origin=web&uuid=4222d876-d104-4e6c-bd78-287110b5ff55',\n",
       " 'https://www.occ.com.mx/empleo/oferta/13424077-desarrollador-java-semi-sr?ai=false&origin=unknown&page=1&rank=28&returnURL=%2Fempleos%2Fde-programador%2Fen-ciudad-de-mexico%2F%2328&sessionid=4fe10fdb-2e10-4fcb-866e-2f06da3f1629&showseo=true&type=0&userid=&utm_channel=serp&utm_origin=web&uuid=4222d876-d104-4e6c-bd78-287110b5ff55',\n",
       " 'https://www.occ.com.mx/empleo/oferta/13424680-desarrollador-java?ai=false&origin=unknown&page=1&rank=29&returnURL=%2Fempleos%2Fde-programador%2Fen-ciudad-de-mexico%2F%2329&sessionid=4fe10fdb-2e10-4fcb-866e-2f06da3f1629&showseo=true&type=0&userid=&utm_channel=serp&utm_origin=web&uuid=4222d876-d104-4e6c-bd78-287110b5ff55',\n",
       " 'https://www.occ.com.mx/empleo/oferta/13425919-desarrollador-full-stack?ai=false&origin=unknown&page=1&rank=30&returnURL=%2Fempleos%2Fde-programador%2Fen-ciudad-de-mexico%2F%2330&sessionid=4fe10fdb-2e10-4fcb-866e-2f06da3f1629&showseo=true&type=1&userid=&utm_channel=serp&utm_origin=web&uuid=4222d876-d104-4e6c-bd78-287110b5ff55',\n",
       " 'https://www.occ.com.mx/empleo/oferta/13425876-full-stack-developer?ai=false&origin=unknown&page=1&rank=31&returnURL=%2Fempleos%2Fde-programador%2Fen-ciudad-de-mexico%2F%2331&sessionid=4fe10fdb-2e10-4fcb-866e-2f06da3f1629&showseo=true&type=1&userid=&utm_channel=serp&utm_origin=web&uuid=4222d876-d104-4e6c-bd78-287110b5ff55',\n",
       " 'https://www.occ.com.mx/empleo/oferta/13425844-back-end-developer?ai=false&origin=unknown&page=1&rank=32&returnURL=%2Fempleos%2Fde-programador%2Fen-ciudad-de-mexico%2F%2332&sessionid=4fe10fdb-2e10-4fcb-866e-2f06da3f1629&showseo=true&type=1&userid=&utm_channel=serp&utm_origin=web&uuid=4222d876-d104-4e6c-bd78-287110b5ff55',\n",
       " 'https://www.occ.com.mx/empleo/oferta/13424373-desarrollador-go?ai=false&origin=unknown&page=1&rank=33&returnURL=%2Fempleos%2Fde-programador%2Fen-ciudad-de-mexico%2F%2333&sessionid=4fe10fdb-2e10-4fcb-866e-2f06da3f1629&showseo=true&type=0&userid=&utm_channel=serp&utm_origin=web&uuid=4222d876-d104-4e6c-bd78-287110b5ff55',\n",
       " 'https://www.occ.com.mx/empleo/oferta/13424107-desarrollador-db?ai=false&origin=unknown&page=1&rank=34&returnURL=%2Fempleos%2Fde-programador%2Fen-ciudad-de-mexico%2F%2334&sessionid=4fe10fdb-2e10-4fcb-866e-2f06da3f1629&showseo=true&type=1&userid=&utm_channel=serp&utm_origin=web&uuid=4222d876-d104-4e6c-bd78-287110b5ff55',\n",
       " 'https://www.occ.com.mx/empleo/oferta/13279120-c-developer?ai=false&origin=unknown&page=1&rank=35&returnURL=%2Fempleos%2Fde-programador%2Fen-ciudad-de-mexico%2F%2335&sessionid=4fe10fdb-2e10-4fcb-866e-2f06da3f1629&showseo=true&type=3&userid=&utm_channel=serp&utm_origin=web&uuid=4222d876-d104-4e6c-bd78-287110b5ff55',\n",
       " 'https://www.occ.com.mx/empleo/oferta/13423992-fullstack-developer?ai=false&origin=unknown&page=1&rank=36&returnURL=%2Fempleos%2Fde-programador%2Fen-ciudad-de-mexico%2F%2336&sessionid=4fe10fdb-2e10-4fcb-866e-2f06da3f1629&showseo=true&type=0&userid=&utm_channel=serp&utm_origin=web&uuid=4222d876-d104-4e6c-bd78-287110b5ff55',\n",
       " 'https://www.occ.com.mx/empleo/oferta/13423989-desarrollador-net?ai=false&origin=unknown&page=1&rank=37&returnURL=%2Fempleos%2Fde-programador%2Fen-ciudad-de-mexico%2F%2337&sessionid=4fe10fdb-2e10-4fcb-866e-2f06da3f1629&showseo=true&type=0&userid=&utm_channel=serp&utm_origin=web&uuid=4222d876-d104-4e6c-bd78-287110b5ff55',\n",
       " 'https://www.occ.com.mx/empleo/oferta/13423801-desarrollador-web?ai=false&origin=unknown&page=1&rank=38&returnURL=%2Fempleos%2Fde-programador%2Fen-ciudad-de-mexico%2F%2338&sessionid=4fe10fdb-2e10-4fcb-866e-2f06da3f1629&showseo=true&type=3&userid=&utm_channel=serp&utm_origin=web&uuid=4222d876-d104-4e6c-bd78-287110b5ff55',\n",
       " 'https://www.occ.com.mx/empleo/oferta/13423723-desarrollador-java?ai=false&origin=unknown&page=1&rank=39&returnURL=%2Fempleos%2Fde-programador%2Fen-ciudad-de-mexico%2F%2339&sessionid=4fe10fdb-2e10-4fcb-866e-2f06da3f1629&showseo=true&type=0&userid=&utm_channel=serp&utm_origin=web&uuid=4222d876-d104-4e6c-bd78-287110b5ff55',\n",
       " 'https://www.occ.com.mx/empleo/oferta/13424926-desarrollador-net-todos-los-niveles?ai=false&origin=unknown&page=1&rank=40&returnURL=%2Fempleos%2Fde-programador%2Fen-ciudad-de-mexico%2F%2340&sessionid=4fe10fdb-2e10-4fcb-866e-2f06da3f1629&showseo=true&type=0&userid=&utm_channel=serp&utm_origin=web&uuid=4222d876-d104-4e6c-bd78-287110b5ff55',\n",
       " 'https://www.occ.com.mx/empleo/oferta/13422411-php-developer?ai=false&origin=unknown&page=1&rank=41&returnURL=%2Fempleos%2Fde-programador%2Fen-ciudad-de-mexico%2F%2341&sessionid=4fe10fdb-2e10-4fcb-866e-2f06da3f1629&showseo=true&type=0&userid=&utm_channel=serp&utm_origin=web&uuid=4222d876-d104-4e6c-bd78-287110b5ff55',\n",
       " 'https://www.occ.com.mx/empleo/oferta/13425058-desarrollador-movil-jr-react-native-android?ai=false&origin=unknown&page=1&rank=42&returnURL=%2Fempleos%2Fde-programador%2Fen-ciudad-de-mexico%2F%2342&sessionid=4fe10fdb-2e10-4fcb-866e-2f06da3f1629&showseo=true&type=0&userid=&utm_channel=serp&utm_origin=web&uuid=4222d876-d104-4e6c-bd78-287110b5ff55',\n",
       " 'https://www.occ.com.mx/empleo/oferta/13422067-programador-cells?ai=false&origin=unknown&page=1&rank=43&returnURL=%2Fempleos%2Fde-programador%2Fen-ciudad-de-mexico%2F%2343&sessionid=4fe10fdb-2e10-4fcb-866e-2f06da3f1629&showseo=true&type=0&userid=&utm_channel=serp&utm_origin=web&uuid=4222d876-d104-4e6c-bd78-287110b5ff55',\n",
       " 'https://www.occ.com.mx/empleo/oferta/13421957-programador-cobol?ai=false&origin=unknown&page=1&rank=44&returnURL=%2Fempleos%2Fde-programador%2Fen-ciudad-de-mexico%2F%2344&sessionid=4fe10fdb-2e10-4fcb-866e-2f06da3f1629&showseo=true&type=0&userid=&utm_channel=serp&utm_origin=web&uuid=4222d876-d104-4e6c-bd78-287110b5ff55',\n",
       " 'https://www.occ.com.mx/empleo/oferta/13421750-desarrollador-fullstack?ai=false&origin=unknown&page=1&rank=45&returnURL=%2Fempleos%2Fde-programador%2Fen-ciudad-de-mexico%2F%2345&sessionid=4fe10fdb-2e10-4fcb-866e-2f06da3f1629&showseo=true&type=0&userid=&utm_channel=serp&utm_origin=web&uuid=4222d876-d104-4e6c-bd78-287110b5ff55',\n",
       " 'https://www.occ.com.mx/empleo/oferta/13424254-desarrollador-cobol-minimo-1-ano-de-experiencia?ai=false&origin=unknown&page=1&rank=46&returnURL=%2Fempleos%2Fde-programador%2Fen-ciudad-de-mexico%2F%2346&sessionid=4fe10fdb-2e10-4fcb-866e-2f06da3f1629&showseo=true&type=0&userid=&utm_channel=serp&utm_origin=web&uuid=4222d876-d104-4e6c-bd78-287110b5ff55',\n",
       " 'https://www.occ.com.mx/empleo/oferta/13213509-desarrollador-netsuite?ai=false&origin=unknown&page=1&rank=47&returnURL=%2Fempleos%2Fde-programador%2Fen-ciudad-de-mexico%2F%2347&sessionid=4fe10fdb-2e10-4fcb-866e-2f06da3f1629&showseo=true&type=0&userid=&utm_channel=serp&utm_origin=web&uuid=4222d876-d104-4e6c-bd78-287110b5ff55',\n",
       " 'https://www.occ.com.mx/empleo/oferta/13418206-desarrollador-a-java?ai=false&origin=unknown&page=1&rank=48&returnURL=%2Fempleos%2Fde-programador%2Fen-ciudad-de-mexico%2F%2348&sessionid=4fe10fdb-2e10-4fcb-866e-2f06da3f1629&showseo=true&type=0&userid=&utm_channel=serp&utm_origin=web&uuid=4222d876-d104-4e6c-bd78-287110b5ff55',\n",
       " 'https://www.occ.com.mx/empleo/oferta/13424060-desarrollador-web-movil?ai=false&origin=unknown&page=1&rank=49&returnURL=%2Fempleos%2Fde-programador%2Fen-ciudad-de-mexico%2F%2349&sessionid=4fe10fdb-2e10-4fcb-866e-2f06da3f1629&showseo=true&type=0&userid=&utm_channel=serp&utm_origin=web&uuid=4222d876-d104-4e6c-bd78-287110b5ff55',\n",
       " 'https://www.occ.com.mx/empleo/oferta/13423906-desarrollador-java-apx?ai=false&origin=unknown&page=1&rank=50&returnURL=%2Fempleos%2Fde-programador%2Fen-ciudad-de-mexico%2F%2350&sessionid=4fe10fdb-2e10-4fcb-866e-2f06da3f1629&showseo=true&type=0&userid=&utm_channel=serp&utm_origin=web&uuid=4222d876-d104-4e6c-bd78-287110b5ff55']"
      ]
     },
     "execution_count": 12,
     "metadata": {},
     "output_type": "execute_result"
    }
   ],
   "source": [
    "host = 'https://www.occ.com.mx'\n",
    "final_list = [host + s for s in clean_url]\n",
    "final_list"
   ]
  },
  {
   "cell_type": "code",
   "execution_count": null,
   "id": "assumed-merchandise",
   "metadata": {},
   "outputs": [],
   "source": [
    "link_1 = final_list[0]\n",
    "page_1 = requests.get(link_1)\n",
    "soup_1 = BeautifulSoup(page_1.content, \"html.parser\")\n",
    "print(soup.prettify())"
   ]
  },
  {
   "cell_type": "code",
   "execution_count": 16,
   "id": "numerous-wealth",
   "metadata": {},
   "outputs": [
    {
     "data": {
      "text/plain": [
       "[]"
      ]
     },
     "execution_count": 16,
     "metadata": {},
     "output_type": "execute_result"
    }
   ],
   "source": [
    "#print(soup_1.find('div', {\"id\":\"jobbody\"}))\n",
    "\n",
    "cards = soup_1.find_all('id','salario')\n",
    "cards"
   ]
  },
  {
   "cell_type": "code",
   "execution_count": null,
   "id": "wrapped-loading",
   "metadata": {},
   "outputs": [],
   "source": []
  }
 ],
 "metadata": {
  "kernelspec": {
   "display_name": "Python 3",
   "language": "python",
   "name": "python3"
  },
  "language_info": {
   "codemirror_mode": {
    "name": "ipython",
    "version": 3
   },
   "file_extension": ".py",
   "mimetype": "text/x-python",
   "name": "python",
   "nbconvert_exporter": "python",
   "pygments_lexer": "ipython3",
   "version": "3.7.5"
  }
 },
 "nbformat": 4,
 "nbformat_minor": 5
}
