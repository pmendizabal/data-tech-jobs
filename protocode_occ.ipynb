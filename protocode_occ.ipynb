{
 "cells": [
  {
   "cell_type": "code",
   "execution_count": null,
   "id": "iraqi-chick",
   "metadata": {},
   "outputs": [],
   "source": [
    "import requests\n",
    "from bs4 import BeautifulSoup\n",
    "import selenium \n",
    "import urllib\n",
    "import pandas as pd\n",
    "import os \n",
    "from selenium import webdriver\n",
    "from selenium.webdriver.support.ui import WebDriverWait"
   ]
  },
  {
   "cell_type": "code",
   "execution_count": null,
   "id": "delayed-stock",
   "metadata": {},
   "outputs": [],
   "source": [
    "url = 'https://www.occ.com.mx/empleos/de-programador/en-ciudad-de-mexico/'\n",
    "page = requests.get(url)\n",
    "soup = BeautifulSoup(page.content, \"html.parser\")\n",
    "\n",
    "#job_soup = soup.find(\"div\",class_='c0129')"
   ]
  },
  {
   "cell_type": "code",
   "execution_count": null,
   "id": "patent-kansas",
   "metadata": {},
   "outputs": [],
   "source": [
    "for divs in soup.find_all('div', class_='c0130 c01123 c01203'):\n",
    "    urls = [item.get(\"href\") for item in divs.find_all('a')]"
   ]
  },
  {
   "cell_type": "code",
   "execution_count": null,
   "id": "informative-lebanon",
   "metadata": {},
   "outputs": [],
   "source": [
    "urls_finals = list(dict.fromkeys(urls))\n",
    "urls_finals"
   ]
  },
  {
   "cell_type": "code",
   "execution_count": null,
   "id": "united-edmonton",
   "metadata": {},
   "outputs": [],
   "source": [
    "clean_url = [x for x in urls_finals if x.startswith('/empleo/oferta/')]\n",
    "clean_url"
   ]
  },
  {
   "cell_type": "code",
   "execution_count": null,
   "id": "square-tuner",
   "metadata": {},
   "outputs": [],
   "source": [
    "host = 'https://www.occ.com.mx'\n",
    "final_list = [host+ s for s in clean_url]\n",
    "final_list"
   ]
  },
  {
   "cell_type": "code",
   "execution_count": null,
   "id": "documented-timber",
   "metadata": {},
   "outputs": [],
   "source": [
    "link_1 = final_list[0]\n",
    "page_1 = requests.get(link_1)\n",
    "soup_1 = BeautifulSoup(page_1.content, \"html.parser\")\n",
    "soup_1"
   ]
  },
  {
   "cell_type": "code",
   "execution_count": null,
   "id": "recreational-stock",
   "metadata": {},
   "outputs": [],
   "source": [
    "#print(soup_1.find('div', {\"id\":\"jobbody\"}))\n",
    "\n",
    "print(soup_1.find(\"div\",attrs={\"id\":\"jobbody\", \"class\":\"c0125768 c0121807\"}))"
   ]
  },
  {
   "cell_type": "code",
   "execution_count": null,
   "id": "resident-tunisia",
   "metadata": {},
   "outputs": [],
   "source": [
    "from selenium import webdriver\n",
    "from webdriver_manager.chrome import ChromeDriverManager\n",
    "\n",
    "driver = webdriver.Chrome(executable_path='/path/to/chromedriver.exe')\n",
    "driver.get(final_list[0])\n",
    "soup_1 = BeautifulSoup(driver.page_source, 'html.parser')\n",
    "\n",
    "soup_1"
   ]
  },
  {
   "cell_type": "code",
   "execution_count": null,
   "id": "flexible-rebound",
   "metadata": {},
   "outputs": [],
   "source": []
  }
 ],
 "metadata": {
  "kernelspec": {
   "display_name": "Python 3",
   "language": "python",
   "name": "python3"
  },
  "language_info": {
   "codemirror_mode": {
    "name": "ipython",
    "version": 3
   },
   "file_extension": ".py",
   "mimetype": "text/x-python",
   "name": "python",
   "nbconvert_exporter": "python",
   "pygments_lexer": "ipython3",
   "version": "3.7.5"
  }
 },
 "nbformat": 4,
 "nbformat_minor": 5
}
