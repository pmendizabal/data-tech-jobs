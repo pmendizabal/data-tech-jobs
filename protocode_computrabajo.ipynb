{
 "cells": [
  {
   "cell_type": "code",
   "execution_count": 1,
   "id": "postal-circle",
   "metadata": {},
   "outputs": [],
   "source": [
    "import requests\n",
    "from bs4 import BeautifulSoup\n",
    "import selenium \n",
    "import urllib\n",
    "import pandas as pd"
   ]
  },
  {
   "cell_type": "code",
   "execution_count": 2,
   "id": "hairy-gravity",
   "metadata": {},
   "outputs": [],
   "source": [
    "url = 'https://www.computrabajo.com.mx/trabajo-de-programador-en-ciudad-de-mexico?q=programador'\n",
    "page = requests.get(url)\n",
    "soup = BeautifulSoup(page.content, \"html.parser\")"
   ]
  },
  {
   "cell_type": "code",
   "execution_count": null,
   "id": "parental-skill",
   "metadata": {},
   "outputs": [],
   "source": [
    "#Obtain all job offers from the first page\n",
    "cards = soup.find_all('div','iO')\n",
    "cards"
   ]
  },
  {
   "cell_type": "code",
   "execution_count": 4,
   "id": "wooden-remainder",
   "metadata": {},
   "outputs": [
    {
     "data": {
      "text/plain": [
       "<div class=\"iO\">\n",
       "<div class=\"lU\"><span>Se precisa Urgente</span></div>\n",
       "<h2 class=\"tO\"><a class=\"js-o-link\" href=\"/ofertas-de-trabajo/oferta-de-trabajo-de-programadora-para-java-oracle-recien-egresados-en-benito-juarez-6DAC3E5BB600B70C61373E686DCF3405\">Programador/a</a></h2>\n",
       "<div class=\"w_100 fl mtb5 lT\">\n",
       "<span>\n",
       "<span itemprop=\"name\">\n",
       "<a class=\"fc_blue\" href=\"https://www.computrabajo.com.mx/empresas/ofertas-de-trabajo-de-sacwalabi-sa-de-cv-BDD869ACFD4079C7\" style=\"color: #1e82c4;\" target=\"_blank\">SAC-WALABI S.A. DE C.V.</a>\n",
       "</span>\n",
       "<a class=\"empr it-blank\" href=\"https://www.computrabajo.com.mx\" style=\"color: #1e82c4;\" target=\"_blank\">\n",
       "</a>\n",
       "</span> - <span>\n",
       "<span>\n",
       "<span itemprop=\"addressLocality\"><a href=\"/empleos-en-ciudad-de-mexico\">Ciudad de México DF</a></span>\n",
       ",                             <span itemprop=\"addressRegion\"><a href=\"/empleos-en-ciudad-de-mexico-en-benito-juarez\">Benito Juárez</a></span>\n",
       "</span>\n",
       "</span>\n",
       "</div>\n",
       "<p>Solicitamos Becarios para Programación Java/ Oracle. Recién Egresados de Ingeniería o Licenciatura en Informática,...</p>\n",
       "<span class=\"dO\">Hoy, 08:33 a. m.</span>\n",
       "</div>"
      ]
     },
     "execution_count": 4,
     "metadata": {},
     "output_type": "execute_result"
    }
   ],
   "source": [
    "#Only the first element\n",
    "example = cards[0]\n",
    "example"
   ]
  },
  {
   "cell_type": "code",
   "execution_count": 5,
   "id": "round-whale",
   "metadata": {},
   "outputs": [
    {
     "data": {
      "text/plain": [
       "'https://www.computrabajo.com.mx/ofertas-de-trabajo/oferta-de-trabajo-de-programadora-para-java-oracle-recien-egresados-en-benito-juarez-6DAC3E5BB600B70C61373E686DCF3405'"
      ]
     },
     "execution_count": 5,
     "metadata": {},
     "output_type": "execute_result"
    }
   ],
   "source": [
    "#Complete the url to analize offer\n",
    "atag = example.h2.a\n",
    "job_url = 'https://www.computrabajo.com.mx' + atag.get('href')\n",
    "job_url"
   ]
  },
  {
   "cell_type": "code",
   "execution_count": 6,
   "id": "moderate-coupon",
   "metadata": {},
   "outputs": [],
   "source": [
    "#Obtain html data\n",
    "page_1 = requests.get(job_url)\n",
    "soup_1 = BeautifulSoup(page_1.content, \"html.parser\")\n",
    "#print(soup_1.prettify)"
   ]
  },
  {
   "cell_type": "code",
   "execution_count": 7,
   "id": "altered-examination",
   "metadata": {},
   "outputs": [],
   "source": [
    "#In this webpage, the data is in two places, this is for the small square up \n",
    "gen_text = soup_1.find('div','fl100 pl15px')"
   ]
  },
  {
   "cell_type": "code",
   "execution_count": 8,
   "id": "electoral-prevention",
   "metadata": {},
   "outputs": [
    {
     "data": {
      "text/plain": [
       "'Programador/a - para JAVA /Oracle Recién Egresados'"
      ]
     },
     "execution_count": 8,
     "metadata": {},
     "output_type": "execute_result"
    }
   ],
   "source": [
    "job_title = gen_text.find('h1','m0').text.strip()\n",
    "job_title"
   ]
  },
  {
   "cell_type": "code",
   "execution_count": 9,
   "id": "known-religious",
   "metadata": {},
   "outputs": [
    {
     "data": {
      "text/plain": [
       "'$ 7.000,00 (Mensual)\\xa0·\\xa0                                                Benito Juárez,                         Ciudad de México DF\\xa0·\\xa0                        Hoy, 08:33 a. m.'"
      ]
     },
     "execution_count": 9,
     "metadata": {},
     "output_type": "execute_result"
    }
   ],
   "source": [
    "job_location_date = gen_text.find('p','fc80 mt5').text.strip().replace('\\n','').replace('\\r','')\n",
    "job_location_date"
   ]
  },
  {
   "cell_type": "code",
   "execution_count": 11,
   "id": "departmental-notion",
   "metadata": {},
   "outputs": [
    {
     "data": {
      "text/plain": [
       "'SAC-WALABI S.A. DE C.V.'"
      ]
     },
     "execution_count": 11,
     "metadata": {},
     "output_type": "execute_result"
    }
   ],
   "source": [
    "company = gen_text.find('div','fl100').text.strip()"
   ]
  },
  {
   "cell_type": "code",
   "execution_count": 19,
   "id": "modified-intellectual",
   "metadata": {},
   "outputs": [
    {
     "data": {
      "text/plain": [
       "<section class=\"boxWhite fl w_100 detail_of mb20 bWord\">\n",
       "<span itemscope=\"\" itemtype=\"http://schema.org/JobPosting\" style=\"display:none\"><meta content=\"Programador/a - para JAVA /Oracle Recién Egresados\" itemprop=\"title\"/><meta content=\"Solicitamos Becarios para Programación Java/ Oracle. Recién Egresados de Ingeniería o Licenciatura en Informática, Computación, Ciencias de la Informática, Matemáticas, Actuaría o carrera a fin.&lt;br/&gt;Pasantes o Titulados.&lt;br/&gt;&lt;br/&gt;Carrera profesional concluida SI PASANTES, NO TRUNCO, NO ESTUDIANTES (Tiempo Completo)&lt;br/&gt;Sexo: indistinto&lt;br/&gt;Salario $7,000.00 mensuales&lt;br/&gt;Horario Tiempo completo de lunes a Viernes de 09:30- 19:00 incluye horario de alimentos&lt;br/&gt;&lt;br/&gt;El lugar de trabajo es en WTC- Ciudad de México, por la actual situación de pandemia ofrecemos disponibilidad de Home Office, y a futuro en oficinas o mixto.&lt;br/&gt;&lt;br/&gt;SAC-WALABI es una empresa mexicana dedicada al Desarrollo de Software; con experiencia es en el sector financiero, para clientes extranjeros con presencia en México.-Requerimientos- Educación mínima: Educación superior - Licenciatura&lt;br/&gt;Idiomas: Español ,Inglés &lt;br/&gt;Edad: entre 22 y 27 años&lt;br/&gt;Disponibilidad de viajar: No&lt;br/&gt;Disponibilidad de cambio de residencia: No&lt;br/&gt;\" itemprop=\"description\"/><meta content=\"Informática / Software\" itemprop=\"industry\"/><meta content=\"2021-01-25\" itemprop=\"datePosted\"/><meta content=\"FULL_TIME\" itemprop=\"employmentType\"/><span itemprop=\"jobLocation\" itemscope=\"\" itemtype=\"http://schema.org/Place\" style=\"display:none\"><span itemprop=\"address\" itemscope=\"\" itemtype=\"http://schema.org/PostalAddress\" style=\"display:none\"><meta content=\"Ciudad de México DF\" itemprop=\"addressLocality\"/><meta content=\"Benito Juárez\" itemprop=\"addressRegion\"/><meta content=\"México\" itemprop=\"addressCountry\"/></span></span><meta content=\"MXN\" itemprop=\"salaryCurrency\"/><span itemprop=\"baseSalary\" itemscope=\"\" itemtype=\"http://schema.org/MonetaryAmount\" style=\"display:none\"><meta content=\"MXN\" itemprop=\"currency\"/><span itemprop=\"value\" itemscope=\"\" itemtype=\"http://schema.org/QuantitativeValue\" style=\"display:none\"><meta content=\"7000\" itemprop=\"value\"/><meta content=\"MONTH\" itemprop=\"unitText\"/></span></span><span itemprop=\"hiringOrganization\" itemscope=\"\" itemtype=\"http://schema.org/Organization\" style=\"display:none\"><meta content=\"SAC-WALABI S.A. DE C.V.\" itemprop=\"name\"/></span><span itemprop=\"identifier\" itemscope=\"\" itemtype=\"http://schema.org/PropertyValue\" style=\"display:none\"><meta content=\"6DAC3E5BB600B70C61373E686DCF3405\" itemprop=\"value\"/><meta content=\"SAC-WALABI S.A. DE C.V.\" itemprop=\"name\"/></span><meta content=\"https://www.computrabajo.com.mx/ofertas-de-trabajo/oferta-de-trabajo-de-programadora-para-java-oracle-recien-egresados-en-benito-juarez-6DAC3E5BB600B70C61373E686DCF3405\" itemprop=\"url\"/></span>\n",
       "<ul class=\"p0 m0\">\n",
       "<li><h3 class=\"mt0\">Descripción</h3></li>\n",
       "<li>Solicitamos Becarios para Programación Java/ Oracle. Recién Egresados de Ingeniería o Licenciatura en Informática, Computación, Ciencias de la Informática, Matemáticas, Actuaría o carrera a fin.<br/><br/>Pasantes o Titulados.<br/><br/>Carrera profesional concluida SI PASANTES, NO TRUNCO, NO ESTUDIANTES (Tiempo Completo)<br/><br/>Sexo: indistinto<br/><br/>Salario $7,000.00 mensuales<br/><br/>Horario Tiempo completo de lunes a Viernes de 09:30- 19:00 incluye horario de alimentos<br/><br/>El lugar de trabajo es en WTC- Ciudad de México, por la actual situación de pandemia ofrecemos disponibilidad de Home Office, y a futuro en oficinas o mixto.<br/><br/>SAC-WALABI es una empresa mexicana dedicada al Desarrollo de Software; con experiencia es en el sector financiero, para clientes extranjeros con presencia en México.</li>\n",
       "<li><h3>Requerimientos</h3></li>\n",
       "<li>Educación mínima: Educación superior - Licenciatura</li><li>Idiomas: Español ,Inglés </li><li>Edad: entre 22 y 27 años</li><li>Disponibilidad de viajar: No</li><li>Disponibilidad de cambio de residencia: No</li>\n",
       "</ul>\n",
       "<div class=\"clearfix fl w_100\" id=\"stop\"></div>\n",
       "<div class=\"btn_postular\" id=\"it-fixed-apply\">\n",
       "<a class=\"submit_n boton js-t-d\" href=\"https://candidato.computrabajo.com.mx/match/?oi=6DAC3E5BB600B70C61373E686DCF3405&amp;p=47&amp;idb=1\" rel=\"nofollow\">\n",
       "                        Postularme\n",
       "                    </a>\n",
       "</div>\n",
       "<div class=\"clearfix\"></div>\n",
       "<div class=\"tc mt20\">\n",
       "                        Para ver datos de contacto <a class=\"js-t-d\" href=\"https://candidato.computrabajo.com.mx/match/?oi=6DAC3E5BB600B70C61373E686DCF3405&amp;p=47&amp;idb=1\">envía tu cv</a>\n",
       "</div>\n",
       "</section>"
      ]
     },
     "execution_count": 19,
     "metadata": {},
     "output_type": "execute_result"
    }
   ],
   "source": [
    "gen_description = soup_1.find('section','boxWhite fl w_100 detail_of mb20 bWord')\n",
    "gen_description"
   ]
  },
  {
   "cell_type": "code",
   "execution_count": 35,
   "id": "hydraulic-spider",
   "metadata": {},
   "outputs": [
    {
     "data": {
      "text/plain": [
       "'Programador/a - para JAVA /Oracle Recién Egresados'"
      ]
     },
     "execution_count": 35,
     "metadata": {},
     "output_type": "execute_result"
    }
   ],
   "source": [
    "example = gen_description.span\n",
    "example.find('meta',itemprop='title')['content']\n",
    "\n",
    "job_title = example.find('meta',itemprop='title')['content']"
   ]
  },
  {
   "cell_type": "code",
   "execution_count": 39,
   "id": "rising-devices",
   "metadata": {},
   "outputs": [
    {
     "data": {
      "text/plain": [
       "'Solicitamos Becarios para Programación Java/ Oracle. Recién Egresados de Ingeniería o Licenciatura en Informática, Computación, Ciencias de la Informática, Matemáticas, Actuaría o carrera a fin. Pasantes o Titulados.  Carrera profesional concluida SI PASANTES, NO TRUNCO, NO ESTUDIANTES (Tiempo Completo) Sexo: indistinto Salario $7,000.00 mensuales Horario Tiempo completo de lunes a Viernes de 09:30- 19:00 incluye horario de alimentos  El lugar de trabajo es en WTC- Ciudad de México, por la actual situación de pandemia ofrecemos disponibilidad de Home Office, y a futuro en oficinas o mixto.  SAC-WALABI es una empresa mexicana dedicada al Desarrollo de Software; con experiencia es en el sector financiero, para clientes extranjeros con presencia en México.-Requerimientos- Educación mínima: Educación superior - Licenciatura Idiomas: Español ,Inglés  Edad: entre 22 y 27 años Disponibilidad de viajar: No Disponibilidad de cambio de residencia: No '"
      ]
     },
     "execution_count": 39,
     "metadata": {},
     "output_type": "execute_result"
    }
   ],
   "source": [
    "job_summary = example.find('meta',itemprop='description')['content'].replace('<br/>',' ')"
   ]
  },
  {
   "cell_type": "code",
   "execution_count": 40,
   "id": "auburn-fraud",
   "metadata": {},
   "outputs": [
    {
     "data": {
      "text/plain": [
       "'Informática / Software'"
      ]
     },
     "execution_count": 40,
     "metadata": {},
     "output_type": "execute_result"
    }
   ],
   "source": [
    "job_industry = example.find('meta',itemprop='industry')['content']"
   ]
  },
  {
   "cell_type": "code",
   "execution_count": 41,
   "id": "governing-first",
   "metadata": {},
   "outputs": [
    {
     "data": {
      "text/plain": [
       "'2021-01-25'"
      ]
     },
     "execution_count": 41,
     "metadata": {},
     "output_type": "execute_result"
    }
   ],
   "source": [
    "job_date_posted = example.find('meta',itemprop='datePosted')['content']"
   ]
  },
  {
   "cell_type": "code",
   "execution_count": 42,
   "id": "romance-perth",
   "metadata": {},
   "outputs": [
    {
     "data": {
      "text/plain": [
       "'FULL_TIME'"
      ]
     },
     "execution_count": 42,
     "metadata": {},
     "output_type": "execute_result"
    }
   ],
   "source": [
    "job_type = example.find('meta',itemprop='employmentType')['content']"
   ]
  },
  {
   "cell_type": "code",
   "execution_count": 43,
   "id": "revolutionary-lighting",
   "metadata": {},
   "outputs": [
    {
     "data": {
      "text/plain": [
       "'Ciudad de México DF'"
      ]
     },
     "execution_count": 43,
     "metadata": {},
     "output_type": "execute_result"
    }
   ],
   "source": [
    "job_location = example.find('meta',itemprop='addressLocality')['content']"
   ]
  },
  {
   "cell_type": "code",
   "execution_count": 44,
   "id": "honest-shame",
   "metadata": {},
   "outputs": [
    {
     "data": {
      "text/plain": [
       "'7000'"
      ]
     },
     "execution_count": 44,
     "metadata": {},
     "output_type": "execute_result"
    }
   ],
   "source": [
    "job_salary = example.find('meta',itemprop='value')['content']"
   ]
  },
  {
   "cell_type": "code",
   "execution_count": 45,
   "id": "later-palestine",
   "metadata": {},
   "outputs": [
    {
     "data": {
      "text/plain": [
       "'MONTH'"
      ]
     },
     "execution_count": 45,
     "metadata": {},
     "output_type": "execute_result"
    }
   ],
   "source": [
    "job_salary_freq = example.find('meta',itemprop='unitText')['content']"
   ]
  },
  {
   "cell_type": "code",
   "execution_count": 47,
   "id": "measured-hepatitis",
   "metadata": {},
   "outputs": [
    {
     "data": {
      "text/plain": [
       "'SAC-WALABI S.A. DE C.V.'"
      ]
     },
     "execution_count": 47,
     "metadata": {},
     "output_type": "execute_result"
    }
   ],
   "source": [
    "company_name_sec = example.find('meta',itemprop='name')['content']"
   ]
  },
  {
   "cell_type": "code",
   "execution_count": 48,
   "id": "massive-pennsylvania",
   "metadata": {},
   "outputs": [
    {
     "data": {
      "text/plain": [
       "'https://www.computrabajo.com.mx/ofertas-de-trabajo/oferta-de-trabajo-de-programadora-para-java-oracle-recien-egresados-en-benito-juarez-6DAC3E5BB600B70C61373E686DCF3405'"
      ]
     },
     "execution_count": 48,
     "metadata": {},
     "output_type": "execute_result"
    }
   ],
   "source": [
    "job_url = example.find('meta',itemprop='url')['content']"
   ]
  },
  {
   "cell_type": "code",
   "execution_count": null,
   "id": "attempted-alaska",
   "metadata": {},
   "outputs": [],
   "source": []
  }
 ],
 "metadata": {
  "kernelspec": {
   "display_name": "Python 3",
   "language": "python",
   "name": "python3"
  },
  "language_info": {
   "codemirror_mode": {
    "name": "ipython",
    "version": 3
   },
   "file_extension": ".py",
   "mimetype": "text/x-python",
   "name": "python",
   "nbconvert_exporter": "python",
   "pygments_lexer": "ipython3",
   "version": "3.8.5"
  }
 },
 "nbformat": 4,
 "nbformat_minor": 5
}
