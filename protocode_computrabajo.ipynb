{
 "cells": [
  {
   "cell_type": "code",
   "execution_count": 1,
   "id": "female-entrepreneur",
   "metadata": {},
   "outputs": [],
   "source": [
    "import requests\n",
    "from bs4 import BeautifulSoup\n",
    "import selenium \n",
    "import urllib\n",
    "import pandas as pd"
   ]
  },
  {
   "cell_type": "code",
   "execution_count": 2,
   "id": "specified-assumption",
   "metadata": {},
   "outputs": [],
   "source": [
    "url = 'https://www.computrabajo.com.mx/trabajo-de-programador-en-ciudad-de-mexico?q=programador'\n",
    "page = requests.get(url)\n",
    "soup = BeautifulSoup(page.content, \"html.parser\")"
   ]
  },
  {
   "cell_type": "code",
   "execution_count": 3,
   "id": "aquatic-devices",
   "metadata": {},
   "outputs": [
    {
     "data": {
      "text/plain": [
       "[<div class=\"iO\">\n",
       " <div class=\"lU\"><span>Se precisa Urgente</span></div>\n",
       " <h2 class=\"tO\"><a class=\"js-o-link\" href=\"/ofertas-de-trabajo/oferta-de-trabajo-de-programadora-para-java-oracle-recien-egresados-en-benito-juarez-6DAC3E5BB600B70C61373E686DCF3405\">Programador/a</a></h2>\n",
       " <div class=\"w_100 fl mtb5 lT\">\n",
       " <span>\n",
       " <span itemprop=\"name\">\n",
       " <a class=\"fc_blue\" href=\"https://www.computrabajo.com.mx/empresas/ofertas-de-trabajo-de-sacwalabi-sa-de-cv-BDD869ACFD4079C7\" style=\"color: #1e82c4;\" target=\"_blank\">SAC-WALABI S.A. DE C.V.</a>\n",
       " </span>\n",
       " <a class=\"empr it-blank\" href=\"https://www.computrabajo.com.mx\" style=\"color: #1e82c4;\" target=\"_blank\">\n",
       " </a>\n",
       " </span> - <span>\n",
       " <span>\n",
       " <span itemprop=\"addressLocality\"><a href=\"/empleos-en-ciudad-de-mexico\">Ciudad de México DF</a></span>\n",
       " ,                             <span itemprop=\"addressRegion\"><a href=\"/empleos-en-ciudad-de-mexico-en-benito-juarez\">Benito Juárez</a></span>\n",
       " </span>\n",
       " </span>\n",
       " </div>\n",
       " <p>Solicitamos Becarios para Programación Java/ Oracle. Recién Egresados de Ingeniería o Licenciatura en Informática,...</p>\n",
       " <span class=\"dO\">Hoy, 08:33 a. m.</span>\n",
       " </div>,\n",
       " <div class=\"iO\">\n",
       " <h2 class=\"tO\"><a class=\"js-o-link\" href=\"/ofertas-de-trabajo/oferta-de-trabajo-de-programador-tuxedo-en-alvaro-obregon-95BB79EDF695BD6261373E686DCF3405\">Programador Tuxedo</a></h2>\n",
       " <div class=\"w_100 fl mtb5 lT\">\n",
       " <span>\n",
       " <span itemprop=\"name\">\n",
       " <a class=\"fc_blue\" href=\"https://www.computrabajo.com.mx/empresas/ofertas-de-trabajo-de-ids-comercial-sa-de-cv-4511454FC230DB61\" style=\"color: #1e82c4;\" target=\"_blank\">IDS Comercial, S.A. de C.V. </a>\n",
       " </span>\n",
       " <a class=\"empr it-blank\" href=\"https://www.computrabajo.com.mx/empresas/evaluaciones-en-ids-comercial-sa-de-cv-4511454FC230DB61\" style=\"color: #1e82c4;\" target=\"_blank\">\n",
       " <span class=\"val_rate\">\n",
       " <span class=\"stars\">\n",
       " <div class=\"rate\">\n",
       " <span class=\"graystar\"></span>\n",
       " <span class=\"graystar\"></span>\n",
       " <span class=\"graystar\"></span>\n",
       " <span class=\"graystar\"></span>\n",
       " <span class=\"grayheart\"></span>\n",
       " </div>\n",
       " <div class=\"rate\" style=\"width:69px\">\n",
       " <span class=\"goldstar\"></span>\n",
       " <span class=\"goldstar\"></span>\n",
       " <span class=\"goldstar\"></span>\n",
       " <span class=\"goldstar\"></span>\n",
       " <span class=\"heartFull\"></span>\n",
       " </div>\n",
       " </span>\n",
       " <span class=\"valoracions\">\n",
       "                 480  evaluaciones\n",
       "             </span>\n",
       " </span>\n",
       " </a>\n",
       " </span> - <span>\n",
       " <span>\n",
       " <span itemprop=\"addressLocality\"><a href=\"/empleos-en-ciudad-de-mexico\">Ciudad de México DF</a></span>\n",
       " ,                             <span itemprop=\"addressRegion\"><a href=\"/empleos-en-ciudad-de-mexico-en-alvaro-obregon\">Álvaro Obregón</a></span>\n",
       " </span>\n",
       " </span>\n",
       " </div>\n",
       " <p>ids comercial TI es una empresa mexicana de tecnología con más de 36 años de experiencia con presencia en México,...</p>\n",
       " <span class=\"dO\">Hoy, 07:22 a. m.</span>\n",
       " </div>,\n",
       " <div class=\"iO\">\n",
       " <h2 class=\"tO\"><a class=\"js-o-link\" href=\"/ofertas-de-trabajo/oferta-de-trabajo-de-programador-unity-sr-en-coyoacan-771AFADD4EC5087B61373E686DCF3405\">Programador Unity</a></h2>\n",
       " <div class=\"w_100 fl mtb5 lT\">\n",
       " <span>\n",
       " <span itemprop=\"name\">\n",
       " \n",
       " Importante empresa del sector                </span>\n",
       " <a class=\"empr it-blank\" href=\"https://www.computrabajo.com.mx\" style=\"color: #1e82c4;\" target=\"_blank\">\n",
       " </a>\n",
       " </span> - <span>\n",
       " <span>\n",
       " <span itemprop=\"addressLocality\"><a href=\"/empleos-en-ciudad-de-mexico\">Ciudad de México DF</a></span>\n",
       " ,                             <span itemprop=\"addressRegion\"><a href=\"/empleos-en-coyoacan\">Coyoacán</a></span>\n",
       " </span>\n",
       " </span>\n",
       " </div>\n",
       " <p>¿Eres un crack en Unity? ¿Quieres desarrollar realidad virtual y realidad aumentada? ¿VIVES EN CDMX? ¡Estamos buscando...</p>\n",
       " <span class=\"dO\">Hoy, 05:01 a. m.</span>\n",
       " </div>,\n",
       " <div class=\"iO\">\n",
       " <div class=\"lU\"><span>Se precisa Urgente</span></div>\n",
       " <h2 class=\"tO\"><a class=\"js-o-link\" href=\"/ofertas-de-trabajo/oferta-de-trabajo-de-programador-tiempo-completo-en-la-magdalena-contreras-0259435C91E0586E61373E686DCF3405\">Programador</a></h2>\n",
       " <div class=\"w_100 fl mtb5 lT\">\n",
       " <span>\n",
       " <span itemprop=\"name\">\n",
       " <a class=\"fc_blue\" href=\"https://www.computrabajo.com.mx/empresas/ofertas-de-trabajo-de-rh-reclutamiento-901B330D86147233\" style=\"color: #1e82c4;\" target=\"_blank\">RH RECLUTAMIENTO</a>\n",
       " </span>\n",
       " <a class=\"empr it-blank\" href=\"https://www.computrabajo.com.mx/empresas/evaluaciones-en-rh-reclutamiento-901B330D86147233\" style=\"color: #1e82c4;\" target=\"_blank\">\n",
       " <span class=\"val_rate\">\n",
       " <span class=\"stars\">\n",
       " <div class=\"rate\">\n",
       " <span class=\"graystar\"></span>\n",
       " <span class=\"graystar\"></span>\n",
       " <span class=\"graystar\"></span>\n",
       " <span class=\"graystar\"></span>\n",
       " <span class=\"grayheart\"></span>\n",
       " </div>\n",
       " <div class=\"rate\" style=\"width:70px\">\n",
       " <span class=\"goldstar\"></span>\n",
       " <span class=\"goldstar\"></span>\n",
       " <span class=\"goldstar\"></span>\n",
       " <span class=\"goldstar\"></span>\n",
       " <span class=\"heartFull\"></span>\n",
       " </div>\n",
       " </span>\n",
       " <span class=\"valoracions\">\n",
       "                 14  evaluaciones\n",
       "             </span>\n",
       " </span>\n",
       " </a>\n",
       " </span> - <span>\n",
       " <span>\n",
       " <span itemprop=\"addressLocality\"><a href=\"/empleos-en-ciudad-de-mexico\">Ciudad de México DF</a></span>\n",
       " ,                             <span itemprop=\"addressRegion\"><a href=\"/empleos-en-la-magdalena-contreras\">La Magdalena Contreras</a></span>\n",
       " </span>\n",
       " </span>\n",
       " </div>\n",
       " <p>INTERMEDIA WEB Somos una empresa dedicada al monitoreo de medios de comunicación, formado por profesionales en la...</p>\n",
       " <span class=\"dO\">22 enero</span>\n",
       " </div>,\n",
       " <div class=\"iO\">\n",
       " <div class=\"lU\"><span>Se precisa Urgente</span></div>\n",
       " <h2 class=\"tO\"><a class=\"js-o-link\" href=\"/ofertas-de-trabajo/oferta-de-trabajo-de-programador-tableau-tiempo-completo-en-la-magdalena-contreras-35C31471937B34EF61373E686DCF3405\">Programador Tableau</a></h2>\n",
       " <div class=\"w_100 fl mtb5 lT\">\n",
       " <span>\n",
       " <span itemprop=\"name\">\n",
       " <a class=\"fc_blue\" href=\"https://www.computrabajo.com.mx/empresas/ofertas-de-trabajo-de-rh-reclutamiento-901B330D86147233\" style=\"color: #1e82c4;\" target=\"_blank\">RH RECLUTAMIENTO</a>\n",
       " </span>\n",
       " <a class=\"empr it-blank\" href=\"https://www.computrabajo.com.mx/empresas/evaluaciones-en-rh-reclutamiento-901B330D86147233\" style=\"color: #1e82c4;\" target=\"_blank\">\n",
       " <span class=\"val_rate\">\n",
       " <span class=\"stars\">\n",
       " <div class=\"rate\">\n",
       " <span class=\"graystar\"></span>\n",
       " <span class=\"graystar\"></span>\n",
       " <span class=\"graystar\"></span>\n",
       " <span class=\"graystar\"></span>\n",
       " <span class=\"grayheart\"></span>\n",
       " </div>\n",
       " <div class=\"rate\" style=\"width:70px\">\n",
       " <span class=\"goldstar\"></span>\n",
       " <span class=\"goldstar\"></span>\n",
       " <span class=\"goldstar\"></span>\n",
       " <span class=\"goldstar\"></span>\n",
       " <span class=\"heartFull\"></span>\n",
       " </div>\n",
       " </span>\n",
       " <span class=\"valoracions\">\n",
       "                 14  evaluaciones\n",
       "             </span>\n",
       " </span>\n",
       " </a>\n",
       " </span> - <span>\n",
       " <span>\n",
       " <span itemprop=\"addressLocality\"><a href=\"/empleos-en-ciudad-de-mexico\">Ciudad de México DF</a></span>\n",
       " ,                             <span itemprop=\"addressRegion\"><a href=\"/empleos-en-la-magdalena-contreras\">La Magdalena Contreras</a></span>\n",
       " </span>\n",
       " </span>\n",
       " </div>\n",
       " <p>INTERMEDIA WEB Somos una empresa dedicada al monitoreo de medios de comunicación, formado por profesionales en la...</p>\n",
       " <span class=\"dO\">22 enero</span>\n",
       " </div>,\n",
       " <div class=\"iO\">\n",
       " <h2 class=\"tO\"><a class=\"js-o-link\" href=\"/ofertas-de-trabajo/oferta-de-trabajo-de-programador-net-y-c-base-de-datos-oracle-en-benito-juarez-169642C28F410B4D61373E686DCF3405\">Programador .NET y C#</a></h2>\n",
       " <div class=\"w_100 fl mtb5 lT\">\n",
       " <span>\n",
       " <span itemprop=\"name\">\n",
       " <a class=\"fc_blue\" href=\"https://www.computrabajo.com.mx/empresas/ofertas-de-trabajo-de-grupo-qualtem-sa-de-cv-50B273B69B7064E9\" style=\"color: #1e82c4;\" target=\"_blank\">STARTPOINT MEXICO   </a>\n",
       " </span>\n",
       " <a class=\"empr it-blank\" href=\"https://www.computrabajo.com.mx\" style=\"color: #1e82c4;\" target=\"_blank\">\n",
       " </a>\n",
       " </span> - <span>\n",
       " <span>\n",
       " <span itemprop=\"addressLocality\"><a href=\"/empleos-en-ciudad-de-mexico\">Ciudad de México DF</a></span>\n",
       " ,                             <span itemprop=\"addressRegion\"><a href=\"/empleos-en-ciudad-de-mexico-en-benito-juarez\">Benito Juárez</a></span>\n",
       " </span>\n",
       " </span>\n",
       " </div>\n",
       " <p>PROGRAMADOR .NET Y C# - BASE DE DATOS ORACLE PERFIL -Ingeniero en informática o Sistemas con mínimo 8 semestres...</p>\n",
       " <span class=\"dO\">22 enero</span>\n",
       " </div>,\n",
       " <div class=\"iO\">\n",
       " <h2 class=\"tO\"><a class=\"js-o-link\" href=\"/ofertas-de-trabajo/oferta-de-trabajo-de-programador-net-jr-en-benito-juarez-D6B5F1D7B934F25761373E686DCF3405\">Programador .NET Jr</a></h2>\n",
       " <div class=\"w_100 fl mtb5 lT\">\n",
       " <span>\n",
       " <span itemprop=\"name\">\n",
       " <a class=\"fc_blue\" href=\"https://www.computrabajo.com.mx/empresas/ofertas-de-trabajo-de-knowledge-on-demand-sa-de-cv-BB67AF1C071B3E1B\" style=\"color: #1e82c4;\" target=\"_blank\">KODE</a>\n",
       " </span>\n",
       " <a class=\"empr it-blank\" href=\"https://www.computrabajo.com.mx/empresas/evaluaciones-en-knowledge-on-demand-sa-de-cv-BB67AF1C071B3E1B\" style=\"color: #1e82c4;\" target=\"_blank\">\n",
       " <span class=\"val_rate\">\n",
       " <span class=\"stars\">\n",
       " <div class=\"rate\">\n",
       " <span class=\"graystar\"></span>\n",
       " <span class=\"graystar\"></span>\n",
       " <span class=\"graystar\"></span>\n",
       " <span class=\"graystar\"></span>\n",
       " <span class=\"grayheart\"></span>\n",
       " </div>\n",
       " <div class=\"rate\" style=\"width:77px\">\n",
       " <span class=\"goldstar\"></span>\n",
       " <span class=\"goldstar\"></span>\n",
       " <span class=\"goldstar\"></span>\n",
       " <span class=\"goldstar\"></span>\n",
       " <span class=\"heartFull\"></span>\n",
       " </div>\n",
       " </span>\n",
       " <span class=\"valoracions\">\n",
       "                 28  evaluaciones\n",
       "             </span>\n",
       " </span>\n",
       " </a>\n",
       " </span> - <span>\n",
       " <span>\n",
       " <span itemprop=\"addressLocality\"><a href=\"/empleos-en-ciudad-de-mexico\">Ciudad de México DF</a></span>\n",
       " ,                             <span itemprop=\"addressRegion\"><a href=\"/empleos-en-ciudad-de-mexico-en-benito-juarez\">Benito Juárez</a></span>\n",
       " </span>\n",
       " </span>\n",
       " </div>\n",
       " <p>KODE, empresa mexicana líder en el ramo de consultoría TI y desarrollo de software solicita PROGRAMADOR .NET JR que...</p>\n",
       " <span class=\"dO\">22 enero</span>\n",
       " </div>,\n",
       " <div class=\"iO\">\n",
       " <h2 class=\"tO\"><a class=\"js-o-link\" href=\"/ofertas-de-trabajo/oferta-de-trabajo-de-programador-ios-jr-en-benito-juarez-68C9F5CED427AA2D61373E686DCF3405\">Programador iOS Jr</a></h2>\n",
       " <div class=\"w_100 fl mtb5 lT\">\n",
       " <span>\n",
       " <span itemprop=\"name\">\n",
       " <a class=\"fc_blue\" href=\"https://www.computrabajo.com.mx/empresas/ofertas-de-trabajo-de-knowledge-on-demand-sa-de-cv-BB67AF1C071B3E1B\" style=\"color: #1e82c4;\" target=\"_blank\">KODE</a>\n",
       " </span>\n",
       " <a class=\"empr it-blank\" href=\"https://www.computrabajo.com.mx/empresas/evaluaciones-en-knowledge-on-demand-sa-de-cv-BB67AF1C071B3E1B\" style=\"color: #1e82c4;\" target=\"_blank\">\n",
       " <span class=\"val_rate\">\n",
       " <span class=\"stars\">\n",
       " <div class=\"rate\">\n",
       " <span class=\"graystar\"></span>\n",
       " <span class=\"graystar\"></span>\n",
       " <span class=\"graystar\"></span>\n",
       " <span class=\"graystar\"></span>\n",
       " <span class=\"grayheart\"></span>\n",
       " </div>\n",
       " <div class=\"rate\" style=\"width:77px\">\n",
       " <span class=\"goldstar\"></span>\n",
       " <span class=\"goldstar\"></span>\n",
       " <span class=\"goldstar\"></span>\n",
       " <span class=\"goldstar\"></span>\n",
       " <span class=\"heartFull\"></span>\n",
       " </div>\n",
       " </span>\n",
       " <span class=\"valoracions\">\n",
       "                 28  evaluaciones\n",
       "             </span>\n",
       " </span>\n",
       " </a>\n",
       " </span> - <span>\n",
       " <span>\n",
       " <span itemprop=\"addressLocality\"><a href=\"/empleos-en-ciudad-de-mexico\">Ciudad de México DF</a></span>\n",
       " ,                             <span itemprop=\"addressRegion\"><a href=\"/empleos-en-ciudad-de-mexico-en-benito-juarez\">Benito Juárez</a></span>\n",
       " </span>\n",
       " </span>\n",
       " </div>\n",
       " <p>Knowledge on Demand S.A. de C.V. (KODE) empresa mexicana líder en el ramo de consultoría TI y desarrollo de...</p>\n",
       " <span class=\"dO\">22 enero</span>\n",
       " </div>,\n",
       " <div class=\"iO\">\n",
       " <h2 class=\"tO\"><a class=\"js-o-link\" href=\"/ofertas-de-trabajo/oferta-de-trabajo-de-programador-android-jr-en-benito-juarez-349A6776CC4E21CB61373E686DCF3405\">Programador Android Jr</a></h2>\n",
       " <div class=\"w_100 fl mtb5 lT\">\n",
       " <span>\n",
       " <span itemprop=\"name\">\n",
       " <a class=\"fc_blue\" href=\"https://www.computrabajo.com.mx/empresas/ofertas-de-trabajo-de-knowledge-on-demand-sa-de-cv-BB67AF1C071B3E1B\" style=\"color: #1e82c4;\" target=\"_blank\">KODE</a>\n",
       " </span>\n",
       " <a class=\"empr it-blank\" href=\"https://www.computrabajo.com.mx/empresas/evaluaciones-en-knowledge-on-demand-sa-de-cv-BB67AF1C071B3E1B\" style=\"color: #1e82c4;\" target=\"_blank\">\n",
       " <span class=\"val_rate\">\n",
       " <span class=\"stars\">\n",
       " <div class=\"rate\">\n",
       " <span class=\"graystar\"></span>\n",
       " <span class=\"graystar\"></span>\n",
       " <span class=\"graystar\"></span>\n",
       " <span class=\"graystar\"></span>\n",
       " <span class=\"grayheart\"></span>\n",
       " </div>\n",
       " <div class=\"rate\" style=\"width:77px\">\n",
       " <span class=\"goldstar\"></span>\n",
       " <span class=\"goldstar\"></span>\n",
       " <span class=\"goldstar\"></span>\n",
       " <span class=\"goldstar\"></span>\n",
       " <span class=\"heartFull\"></span>\n",
       " </div>\n",
       " </span>\n",
       " <span class=\"valoracions\">\n",
       "                 28  evaluaciones\n",
       "             </span>\n",
       " </span>\n",
       " </a>\n",
       " </span> - <span>\n",
       " <span>\n",
       " <span itemprop=\"addressLocality\"><a href=\"/empleos-en-ciudad-de-mexico\">Ciudad de México DF</a></span>\n",
       " ,                             <span itemprop=\"addressRegion\"><a href=\"/empleos-en-ciudad-de-mexico-en-benito-juarez\">Benito Juárez</a></span>\n",
       " </span>\n",
       " </span>\n",
       " </div>\n",
       " <p>KODE, empresa mexicana líder en el ramo de consultoría TI y desarrollo de aplicaciones móviles (iOS / Android)...</p>\n",
       " <span class=\"dO\">22 enero</span>\n",
       " </div>,\n",
       " <div class=\"iO\">\n",
       " <h2 class=\"tO\"><a class=\"js-o-link\" href=\"/ofertas-de-trabajo/oferta-de-trabajo-de-programador-net-sr-en-benito-juarez-B410940E5A31E0D161373E686DCF3405\">Programador .NET Sr</a></h2>\n",
       " <div class=\"w_100 fl mtb5 lT\">\n",
       " <span>\n",
       " <span itemprop=\"name\">\n",
       " <a class=\"fc_blue\" href=\"https://www.computrabajo.com.mx/empresas/ofertas-de-trabajo-de-knowledge-on-demand-sa-de-cv-BB67AF1C071B3E1B\" style=\"color: #1e82c4;\" target=\"_blank\">KODE</a>\n",
       " </span>\n",
       " <a class=\"empr it-blank\" href=\"https://www.computrabajo.com.mx/empresas/evaluaciones-en-knowledge-on-demand-sa-de-cv-BB67AF1C071B3E1B\" style=\"color: #1e82c4;\" target=\"_blank\">\n",
       " <span class=\"val_rate\">\n",
       " <span class=\"stars\">\n",
       " <div class=\"rate\">\n",
       " <span class=\"graystar\"></span>\n",
       " <span class=\"graystar\"></span>\n",
       " <span class=\"graystar\"></span>\n",
       " <span class=\"graystar\"></span>\n",
       " <span class=\"grayheart\"></span>\n",
       " </div>\n",
       " <div class=\"rate\" style=\"width:77px\">\n",
       " <span class=\"goldstar\"></span>\n",
       " <span class=\"goldstar\"></span>\n",
       " <span class=\"goldstar\"></span>\n",
       " <span class=\"goldstar\"></span>\n",
       " <span class=\"heartFull\"></span>\n",
       " </div>\n",
       " </span>\n",
       " <span class=\"valoracions\">\n",
       "                 28  evaluaciones\n",
       "             </span>\n",
       " </span>\n",
       " </a>\n",
       " </span> - <span>\n",
       " <span>\n",
       " <span itemprop=\"addressLocality\"><a href=\"/empleos-en-ciudad-de-mexico\">Ciudad de México DF</a></span>\n",
       " ,                             <span itemprop=\"addressRegion\"><a href=\"/empleos-en-ciudad-de-mexico-en-benito-juarez\">Benito Juárez</a></span>\n",
       " </span>\n",
       " </span>\n",
       " </div>\n",
       " <p>KODE, empresa mexicana líder en el ramo de consultoría TI y desarrollo de software solicita PROGRAMADOR .NET SR que...</p>\n",
       " <span class=\"dO\">22 enero</span>\n",
       " </div>,\n",
       " <div class=\"iO\">\n",
       " <h2 class=\"tO\"><a class=\"js-o-link\" href=\"/ofertas-de-trabajo/oferta-de-trabajo-de-programador-ios-sr-en-benito-juarez-AA2A10A4324A1A5B61373E686DCF3405\">Programador iOS Sr</a></h2>\n",
       " <div class=\"w_100 fl mtb5 lT\">\n",
       " <span>\n",
       " <span itemprop=\"name\">\n",
       " <a class=\"fc_blue\" href=\"https://www.computrabajo.com.mx/empresas/ofertas-de-trabajo-de-knowledge-on-demand-sa-de-cv-BB67AF1C071B3E1B\" style=\"color: #1e82c4;\" target=\"_blank\">KODE</a>\n",
       " </span>\n",
       " <a class=\"empr it-blank\" href=\"https://www.computrabajo.com.mx/empresas/evaluaciones-en-knowledge-on-demand-sa-de-cv-BB67AF1C071B3E1B\" style=\"color: #1e82c4;\" target=\"_blank\">\n",
       " <span class=\"val_rate\">\n",
       " <span class=\"stars\">\n",
       " <div class=\"rate\">\n",
       " <span class=\"graystar\"></span>\n",
       " <span class=\"graystar\"></span>\n",
       " <span class=\"graystar\"></span>\n",
       " <span class=\"graystar\"></span>\n",
       " <span class=\"grayheart\"></span>\n",
       " </div>\n",
       " <div class=\"rate\" style=\"width:77px\">\n",
       " <span class=\"goldstar\"></span>\n",
       " <span class=\"goldstar\"></span>\n",
       " <span class=\"goldstar\"></span>\n",
       " <span class=\"goldstar\"></span>\n",
       " <span class=\"heartFull\"></span>\n",
       " </div>\n",
       " </span>\n",
       " <span class=\"valoracions\">\n",
       "                 28  evaluaciones\n",
       "             </span>\n",
       " </span>\n",
       " </a>\n",
       " </span> - <span>\n",
       " <span>\n",
       " <span itemprop=\"addressLocality\"><a href=\"/empleos-en-ciudad-de-mexico\">Ciudad de México DF</a></span>\n",
       " ,                             <span itemprop=\"addressRegion\"><a href=\"/empleos-en-ciudad-de-mexico-en-benito-juarez\">Benito Juárez</a></span>\n",
       " </span>\n",
       " </span>\n",
       " </div>\n",
       " <p>KODE, empresa mexicana líder en el ramo de consultoría TI y desarrollo de aplicaciones móviles solicita PROGRAMADOR...</p>\n",
       " <span class=\"dO\">22 enero</span>\n",
       " </div>,\n",
       " <div class=\"iO\">\n",
       " <h2 class=\"tO\"><a class=\"js-o-link\" href=\"/ofertas-de-trabajo/oferta-de-trabajo-de-programador-android-sr-en-benito-juarez-F5CD147B7C9DC86161373E686DCF3405\">Programador Android Sr</a></h2>\n",
       " <div class=\"w_100 fl mtb5 lT\">\n",
       " <span>\n",
       " <span itemprop=\"name\">\n",
       " <a class=\"fc_blue\" href=\"https://www.computrabajo.com.mx/empresas/ofertas-de-trabajo-de-knowledge-on-demand-sa-de-cv-BB67AF1C071B3E1B\" style=\"color: #1e82c4;\" target=\"_blank\">KODE</a>\n",
       " </span>\n",
       " <a class=\"empr it-blank\" href=\"https://www.computrabajo.com.mx/empresas/evaluaciones-en-knowledge-on-demand-sa-de-cv-BB67AF1C071B3E1B\" style=\"color: #1e82c4;\" target=\"_blank\">\n",
       " <span class=\"val_rate\">\n",
       " <span class=\"stars\">\n",
       " <div class=\"rate\">\n",
       " <span class=\"graystar\"></span>\n",
       " <span class=\"graystar\"></span>\n",
       " <span class=\"graystar\"></span>\n",
       " <span class=\"graystar\"></span>\n",
       " <span class=\"grayheart\"></span>\n",
       " </div>\n",
       " <div class=\"rate\" style=\"width:77px\">\n",
       " <span class=\"goldstar\"></span>\n",
       " <span class=\"goldstar\"></span>\n",
       " <span class=\"goldstar\"></span>\n",
       " <span class=\"goldstar\"></span>\n",
       " <span class=\"heartFull\"></span>\n",
       " </div>\n",
       " </span>\n",
       " <span class=\"valoracions\">\n",
       "                 28  evaluaciones\n",
       "             </span>\n",
       " </span>\n",
       " </a>\n",
       " </span> - <span>\n",
       " <span>\n",
       " <span itemprop=\"addressLocality\"><a href=\"/empleos-en-ciudad-de-mexico\">Ciudad de México DF</a></span>\n",
       " ,                             <span itemprop=\"addressRegion\"><a href=\"/empleos-en-ciudad-de-mexico-en-benito-juarez\">Benito Juárez</a></span>\n",
       " </span>\n",
       " </span>\n",
       " </div>\n",
       " <p>KODE, empresa mexicana líder en el ramo de consultoría TI y desarrollo de aplicaciones móviles (iOS / Android)...</p>\n",
       " <span class=\"dO\">22 enero</span>\n",
       " </div>,\n",
       " <div class=\"iO\">\n",
       " <h2 class=\"tO\"><a class=\"js-o-link\" href=\"/ofertas-de-trabajo/oferta-de-trabajo-de-programador-angular-java-en-benito-juarez-D8F32929A3EDCEA561373E686DCF3405\">Programador Angular JAVA</a></h2>\n",
       " <div class=\"w_100 fl mtb5 lT\">\n",
       " <span>\n",
       " <span itemprop=\"name\">\n",
       " <a class=\"fc_blue\" href=\"https://www.computrabajo.com.mx/empresas/ofertas-de-trabajo-de-knowledge-on-demand-sa-de-cv-BB67AF1C071B3E1B\" style=\"color: #1e82c4;\" target=\"_blank\">KODE</a>\n",
       " </span>\n",
       " <a class=\"empr it-blank\" href=\"https://www.computrabajo.com.mx/empresas/evaluaciones-en-knowledge-on-demand-sa-de-cv-BB67AF1C071B3E1B\" style=\"color: #1e82c4;\" target=\"_blank\">\n",
       " <span class=\"val_rate\">\n",
       " <span class=\"stars\">\n",
       " <div class=\"rate\">\n",
       " <span class=\"graystar\"></span>\n",
       " <span class=\"graystar\"></span>\n",
       " <span class=\"graystar\"></span>\n",
       " <span class=\"graystar\"></span>\n",
       " <span class=\"grayheart\"></span>\n",
       " </div>\n",
       " <div class=\"rate\" style=\"width:77px\">\n",
       " <span class=\"goldstar\"></span>\n",
       " <span class=\"goldstar\"></span>\n",
       " <span class=\"goldstar\"></span>\n",
       " <span class=\"goldstar\"></span>\n",
       " <span class=\"heartFull\"></span>\n",
       " </div>\n",
       " </span>\n",
       " <span class=\"valoracions\">\n",
       "                 28  evaluaciones\n",
       "             </span>\n",
       " </span>\n",
       " </a>\n",
       " </span> - <span>\n",
       " <span>\n",
       " <span itemprop=\"addressLocality\"><a href=\"/empleos-en-ciudad-de-mexico\">Ciudad de México DF</a></span>\n",
       " ,                             <span itemprop=\"addressRegion\"><a href=\"/empleos-en-ciudad-de-mexico-en-benito-juarez\">Benito Juárez</a></span>\n",
       " </span>\n",
       " </span>\n",
       " </div>\n",
       " <p>KODE, empresa mexicana líder en el ramo de consultoría TI y desarrollo de software solicita PROGRAMADOR JAVA CON...</p>\n",
       " <span class=\"dO\">22 enero</span>\n",
       " </div>,\n",
       " <div class=\"iO\">\n",
       " <div class=\"lU\"><span>Se precisa Urgente</span></div>\n",
       " <h2 class=\"tO\"><a class=\"js-o-link\" href=\"/ofertas-de-trabajo/oferta-de-trabajo-de-programador-cliente-servidor-visual-basic-6-en-coyoacan-B8E4E66BCD83A5E861373E686DCF3405\">Programador Cliente Servidor Visual Basic 6</a></h2>\n",
       " <div class=\"w_100 fl mtb5 lT\">\n",
       " <span>\n",
       " <span itemprop=\"name\">\n",
       " <a class=\"fc_blue\" href=\"https://www.computrabajo.com.mx/asaerk\" style=\"color: #1e82c4;\" target=\"_blank\">ASAERK</a>\n",
       " </span>\n",
       " <a class=\"empr it-blank\" href=\"https://www.computrabajo.com.mx\" style=\"color: #1e82c4;\" target=\"_blank\">\n",
       " </a>\n",
       " </span> - <span>\n",
       " <span>\n",
       " <span itemprop=\"addressLocality\"><a href=\"/empleos-en-ciudad-de-mexico\">Ciudad de México DF</a></span>\n",
       " ,                             <span itemprop=\"addressRegion\"><a href=\"/empleos-en-coyoacan\">Coyoacán</a></span>\n",
       " </span>\n",
       " </span>\n",
       " </div>\n",
       " <p>Desarrollo de aplicaciones  Cliente Servidor Visual Basic 6, BD Informix, Oracle SQL, Store Procedures Desarrollo...</p>\n",
       " <span class=\"dO\">22 enero</span>\n",
       " </div>,\n",
       " <div class=\"iO\">\n",
       " <h2 class=\"tO\"><a class=\"js-o-link\" href=\"/ofertas-de-trabajo/oferta-de-trabajo-de-programador-power-builder-en-venustiano-carranza-F402BA9E895424A361373E686DCF3405\">Programador Power Builder</a></h2>\n",
       " <div class=\"w_100 fl mtb5 lT\">\n",
       " <span>\n",
       " <span itemprop=\"name\">\n",
       " <a class=\"fc_blue\" href=\"https://www.computrabajo.com.mx/empresas/ofertas-de-trabajo-de-ids-comercial-sa-de-cv-4511454FC230DB61\" style=\"color: #1e82c4;\" target=\"_blank\">IDS Comercial, S.A. de C.V. </a>\n",
       " </span>\n",
       " <a class=\"empr it-blank\" href=\"https://www.computrabajo.com.mx/empresas/evaluaciones-en-ids-comercial-sa-de-cv-4511454FC230DB61\" style=\"color: #1e82c4;\" target=\"_blank\">\n",
       " <span class=\"val_rate\">\n",
       " <span class=\"stars\">\n",
       " <div class=\"rate\">\n",
       " <span class=\"graystar\"></span>\n",
       " <span class=\"graystar\"></span>\n",
       " <span class=\"graystar\"></span>\n",
       " <span class=\"graystar\"></span>\n",
       " <span class=\"grayheart\"></span>\n",
       " </div>\n",
       " <div class=\"rate\" style=\"width:69px\">\n",
       " <span class=\"goldstar\"></span>\n",
       " <span class=\"goldstar\"></span>\n",
       " <span class=\"goldstar\"></span>\n",
       " <span class=\"goldstar\"></span>\n",
       " <span class=\"heartFull\"></span>\n",
       " </div>\n",
       " </span>\n",
       " <span class=\"valoracions\">\n",
       "                 479  evaluaciones\n",
       "             </span>\n",
       " </span>\n",
       " </a>\n",
       " </span> - <span>\n",
       " <span>\n",
       " <span itemprop=\"addressLocality\"><a href=\"/empleos-en-ciudad-de-mexico\">Ciudad de México DF</a></span>\n",
       " ,                             <span itemprop=\"addressRegion\"><a href=\"/empleos-en-ciudad-de-mexico-en-venustiano-carranza\">Venustiano Carranza</a></span>\n",
       " </span>\n",
       " </span>\n",
       " </div>\n",
       " <p>ids comercial TI es una empresa mexicana de tecnología con más de 36 años de experiencia con presencia en México,...</p>\n",
       " <span class=\"dO\">22 enero</span>\n",
       " </div>,\n",
       " <div class=\"iO\">\n",
       " <h2 class=\"tO\"><a class=\"js-o-link\" href=\"/ofertas-de-trabajo/oferta-de-trabajo-de-programador-frontend-sr-angular-en-alvaro-obregon-C82D8A1C63FFDF7561373E686DCF3405\">Programador Frontend Sr</a></h2>\n",
       " <div class=\"w_100 fl mtb5 lT\">\n",
       " <span>\n",
       " <span itemprop=\"name\">\n",
       " <a class=\"fc_blue\" href=\"https://www.computrabajo.com.mx/empresas/ofertas-de-trabajo-de-ids-comercial-sa-de-cv-4511454FC230DB61\" style=\"color: #1e82c4;\" target=\"_blank\">IDS Comercial, S.A. de C.V. </a>\n",
       " </span>\n",
       " <a class=\"empr it-blank\" href=\"https://www.computrabajo.com.mx/empresas/evaluaciones-en-ids-comercial-sa-de-cv-4511454FC230DB61\" style=\"color: #1e82c4;\" target=\"_blank\">\n",
       " <span class=\"val_rate\">\n",
       " <span class=\"stars\">\n",
       " <div class=\"rate\">\n",
       " <span class=\"graystar\"></span>\n",
       " <span class=\"graystar\"></span>\n",
       " <span class=\"graystar\"></span>\n",
       " <span class=\"graystar\"></span>\n",
       " <span class=\"grayheart\"></span>\n",
       " </div>\n",
       " <div class=\"rate\" style=\"width:69px\">\n",
       " <span class=\"goldstar\"></span>\n",
       " <span class=\"goldstar\"></span>\n",
       " <span class=\"goldstar\"></span>\n",
       " <span class=\"goldstar\"></span>\n",
       " <span class=\"heartFull\"></span>\n",
       " </div>\n",
       " </span>\n",
       " <span class=\"valoracions\">\n",
       "                 479  evaluaciones\n",
       "             </span>\n",
       " </span>\n",
       " </a>\n",
       " </span> - <span>\n",
       " <span>\n",
       " <span itemprop=\"addressLocality\"><a href=\"/empleos-en-ciudad-de-mexico\">Ciudad de México DF</a></span>\n",
       " ,                             <span itemprop=\"addressRegion\"><a href=\"/empleos-en-ciudad-de-mexico-en-alvaro-obregon\">Álvaro Obregón</a></span>\n",
       " </span>\n",
       " </span>\n",
       " </div>\n",
       " <p>ids comercial TI es una empresa mexicana de tecnología con más de 36 años de experiencia con presencia en México,...</p>\n",
       " <span class=\"dO\">22 enero</span>\n",
       " </div>,\n",
       " <div class=\"iO\">\n",
       " <h2 class=\"tO\"><a class=\"js-o-link\" href=\"/ofertas-de-trabajo/oferta-de-trabajo-de-programadora-de-ecommerce-iu-y-ux-seo-sem-cpanel-magento-php-mysql-en-cuauhtemoc-CEBD7564319BBA4561373E686DCF3405\">Programadora de Ecommerce</a></h2>\n",
       " <div class=\"w_100 fl mtb5 lT\">\n",
       " <span>\n",
       " <span itemprop=\"name\">\n",
       " <a class=\"fc_blue\" href=\"https://www.computrabajo.com.mx/ricardo-rosas-hernandez\" style=\"color: #1e82c4;\" target=\"_blank\">RICARDO ROSAS HERNANDEZ</a>\n",
       " </span>\n",
       " <a class=\"empr it-blank\" href=\"https://www.computrabajo.com.mx\" style=\"color: #1e82c4;\" target=\"_blank\">\n",
       " </a>\n",
       " </span> - <span>\n",
       " <span>\n",
       " <span itemprop=\"addressLocality\"><a href=\"/empleos-en-ciudad-de-mexico\">Ciudad de México DF</a></span>\n",
       " ,                             <span itemprop=\"addressRegion\"><a href=\"/empleos-en-ciudad-de-mexico-en-cuauhtemoc\">Cuauhtémoc</a></span>\n",
       " </span>\n",
       " </span>\n",
       " </div>\n",
       " <p>Somos una plataforma en CDMX enfocada al comercio electrónico, minería de datos entre otros. Estamos solicitando un...</p>\n",
       " <span class=\"dO\">22 enero</span>\n",
       " </div>,\n",
       " <div class=\"iO\">\n",
       " <div class=\"lU\"><span>Se precisa Urgente</span></div>\n",
       " <h2 class=\"tO\"><a class=\"js-o-link\" href=\"/ofertas-de-trabajo/oferta-de-trabajo-de-programador-web-desarrollador-php-con-experiencia-en-venustiano-carranza-D3FC91F617E46B8061373E686DCF3405\">Programador Web Desarrollador PHP</a></h2>\n",
       " <div class=\"w_100 fl mtb5 lT\">\n",
       " <span>\n",
       " <span itemprop=\"name\">\n",
       " <a class=\"fc_blue\" href=\"https://www.computrabajo.com.mx/empresas/ofertas-de-trabajo-de-consultoria-en-sistemas-smartlab-sa-de-cv-9893E9D794C39BEE\" style=\"color: #1e82c4;\" target=\"_blank\">Consultoría en sistemas Smartlab SA de CV</a>\n",
       " </span>\n",
       " <a class=\"empr it-blank\" href=\"https://www.computrabajo.com.mx\" style=\"color: #1e82c4;\" target=\"_blank\">\n",
       " </a>\n",
       " </span> - <span>\n",
       " <span>\n",
       " <span itemprop=\"addressLocality\"><a href=\"/empleos-en-ciudad-de-mexico\">Ciudad de México DF</a></span>\n",
       " ,                             <span itemprop=\"addressRegion\"><a href=\"/empleos-en-ciudad-de-mexico-en-venustiano-carranza\">Venustiano Carranza</a></span>\n",
       " </span>\n",
       " </span>\n",
       " </div>\n",
       " <p>Somos una empresa mexicana especializada en el desarrollo de software y te invitamos a ser parte de nuestro equipo de...</p>\n",
       " <span class=\"dO\">22 enero</span>\n",
       " </div>,\n",
       " <div class=\"iO\">\n",
       " <div class=\"lU\"><span>Se precisa Urgente</span></div>\n",
       " <h2 class=\"tO\"><a class=\"js-o-link\" href=\"/ofertas-de-trabajo/oferta-de-trabajo-de-operador-programador-cnc-experiencia-con-madera-y-corian-en-miguel-hidalgo-FF869F35C0D6D03B61373E686DCF3405\">Operador Programador CNC</a></h2>\n",
       " <div class=\"w_100 fl mtb5 lT\">\n",
       " <span>\n",
       " <span itemprop=\"name\">\n",
       " <a class=\"fc_blue\" href=\"https://www.computrabajo.com.mx/empresas/ofertas-de-trabajo-de-adecco-5102C072E6F022A3\" style=\"color: #1e82c4;\" target=\"_blank\">Adecco</a>\n",
       " </span>\n",
       " <a class=\"empr it-blank\" href=\"https://www.computrabajo.com.mx/adecco/evaluaciones\" style=\"color: #1e82c4;\" target=\"_blank\">\n",
       " <span class=\"val_rate\">\n",
       " <span class=\"stars\">\n",
       " <div class=\"rate\">\n",
       " <span class=\"graystar\"></span>\n",
       " <span class=\"graystar\"></span>\n",
       " <span class=\"graystar\"></span>\n",
       " <span class=\"graystar\"></span>\n",
       " <span class=\"grayheart\"></span>\n",
       " </div>\n",
       " <div class=\"rate\" style=\"width:76px\">\n",
       " <span class=\"goldstar\"></span>\n",
       " <span class=\"goldstar\"></span>\n",
       " <span class=\"goldstar\"></span>\n",
       " <span class=\"goldstar\"></span>\n",
       " <span class=\"heartFull\"></span>\n",
       " </div>\n",
       " </span>\n",
       " <span class=\"valoracions\">\n",
       "                 4,631  evaluaciones\n",
       "             </span>\n",
       " </span>\n",
       " </a>\n",
       " </span> - <span>\n",
       " <span>\n",
       " <span itemprop=\"addressLocality\"><a href=\"/empleos-en-ciudad-de-mexico\">Ciudad de México DF</a></span>\n",
       " ,                             <span itemprop=\"addressRegion\"><a href=\"/empleos-en-miguel-hidalgo\">Miguel Hidalgo</a></span>\n",
       " </span>\n",
       " </span>\n",
       " </div>\n",
       " <p>Consultora Líder en Atracción y Gestión de Talento, busca para Importante Empresa un OPERADOR PROGRAMADOR CNC....</p>\n",
       " <span class=\"dO\">21 enero</span>\n",
       " </div>,\n",
       " <div class=\"iO\">\n",
       " <div class=\"lU\"><span>Se precisa Urgente</span></div>\n",
       " <h2 class=\"tO\"><a class=\"js-o-link\" href=\"/ofertas-de-trabajo/oferta-de-trabajo-de-programadora-ingles-avanzado-en-alvaro-obregon-3285C0D4FF6D12BD61373E686DCF3405\">Programador/a</a></h2>\n",
       " <div class=\"w_100 fl mtb5 lT\">\n",
       " <span>\n",
       " <span itemprop=\"name\">\n",
       " <a class=\"fc_blue\" href=\"https://www.computrabajo.com.mx/empresas/ofertas-de-trabajo-de-manpower-166C1FF266D4A625\" style=\"color: #1e82c4;\" target=\"_blank\">Manpower</a>\n",
       " </span>\n",
       " <a class=\"empr it-blank\" href=\"https://www.computrabajo.com.mx/manpower/evaluaciones\" style=\"color: #1e82c4;\" target=\"_blank\">\n",
       " <span class=\"val_rate\">\n",
       " <span class=\"stars\">\n",
       " <div class=\"rate\">\n",
       " <span class=\"graystar\"></span>\n",
       " <span class=\"graystar\"></span>\n",
       " <span class=\"graystar\"></span>\n",
       " <span class=\"graystar\"></span>\n",
       " <span class=\"grayheart\"></span>\n",
       " </div>\n",
       " <div class=\"rate\" style=\"width:77px\">\n",
       " <span class=\"goldstar\"></span>\n",
       " <span class=\"goldstar\"></span>\n",
       " <span class=\"goldstar\"></span>\n",
       " <span class=\"goldstar\"></span>\n",
       " <span class=\"heartFull\"></span>\n",
       " </div>\n",
       " </span>\n",
       " <span class=\"valoracions\">\n",
       "                 7,295  evaluaciones\n",
       "             </span>\n",
       " </span>\n",
       " </a>\n",
       " </span> - <span>\n",
       " <span>\n",
       " <span itemprop=\"addressLocality\"><a href=\"/empleos-en-ciudad-de-mexico\">Ciudad de México DF</a></span>\n",
       " ,                             <span itemprop=\"addressRegion\"><a href=\"/empleos-en-ciudad-de-mexico-en-alvaro-obregon\">Álvaro Obregón</a></span>\n",
       " </span>\n",
       " </span>\n",
       " </div>\n",
       " <p>Manpower está en búsqueda de un Programador en la CDMX para unirse al equipo de uno de nuestros clientes principales...</p>\n",
       " <span class=\"dO\">21 enero</span>\n",
       " </div>]"
      ]
     },
     "execution_count": 3,
     "metadata": {},
     "output_type": "execute_result"
    }
   ],
   "source": [
    "#Obtain all job offers from the first page\n",
    "cards = soup.find_all('div','iO')\n",
    "cards"
   ]
  },
  {
   "cell_type": "code",
   "execution_count": 4,
   "id": "excited-mattress",
   "metadata": {},
   "outputs": [
    {
     "data": {
      "text/plain": [
       "<div class=\"iO\">\n",
       "<div class=\"lU\"><span>Se precisa Urgente</span></div>\n",
       "<h2 class=\"tO\"><a class=\"js-o-link\" href=\"/ofertas-de-trabajo/oferta-de-trabajo-de-programadora-para-java-oracle-recien-egresados-en-benito-juarez-6DAC3E5BB600B70C61373E686DCF3405\">Programador/a</a></h2>\n",
       "<div class=\"w_100 fl mtb5 lT\">\n",
       "<span>\n",
       "<span itemprop=\"name\">\n",
       "<a class=\"fc_blue\" href=\"https://www.computrabajo.com.mx/empresas/ofertas-de-trabajo-de-sacwalabi-sa-de-cv-BDD869ACFD4079C7\" style=\"color: #1e82c4;\" target=\"_blank\">SAC-WALABI S.A. DE C.V.</a>\n",
       "</span>\n",
       "<a class=\"empr it-blank\" href=\"https://www.computrabajo.com.mx\" style=\"color: #1e82c4;\" target=\"_blank\">\n",
       "</a>\n",
       "</span> - <span>\n",
       "<span>\n",
       "<span itemprop=\"addressLocality\"><a href=\"/empleos-en-ciudad-de-mexico\">Ciudad de México DF</a></span>\n",
       ",                             <span itemprop=\"addressRegion\"><a href=\"/empleos-en-ciudad-de-mexico-en-benito-juarez\">Benito Juárez</a></span>\n",
       "</span>\n",
       "</span>\n",
       "</div>\n",
       "<p>Solicitamos Becarios para Programación Java/ Oracle. Recién Egresados de Ingeniería o Licenciatura en Informática,...</p>\n",
       "<span class=\"dO\">Hoy, 08:33 a. m.</span>\n",
       "</div>"
      ]
     },
     "execution_count": 4,
     "metadata": {},
     "output_type": "execute_result"
    }
   ],
   "source": [
    "#Only the first element\n",
    "example = cards[0]\n",
    "example"
   ]
  },
  {
   "cell_type": "code",
   "execution_count": 5,
   "id": "french-spank",
   "metadata": {},
   "outputs": [
    {
     "data": {
      "text/plain": [
       "'https://www.computrabajo.com.mx/ofertas-de-trabajo/oferta-de-trabajo-de-programadora-para-java-oracle-recien-egresados-en-benito-juarez-6DAC3E5BB600B70C61373E686DCF3405'"
      ]
     },
     "execution_count": 5,
     "metadata": {},
     "output_type": "execute_result"
    }
   ],
   "source": [
    "#Complete the url to analize offer\n",
    "atag = example.h2.a\n",
    "job_url = 'https://www.computrabajo.com.mx' + atag.get('href')\n",
    "job_url"
   ]
  },
  {
   "cell_type": "code",
   "execution_count": 6,
   "id": "external-herald",
   "metadata": {},
   "outputs": [],
   "source": [
    "#Obtain html data\n",
    "page_1 = requests.get(job_url)\n",
    "soup_1 = BeautifulSoup(page_1.content, \"html.parser\")\n",
    "#print(soup_1.prettify)"
   ]
  },
  {
   "cell_type": "code",
   "execution_count": 7,
   "id": "empty-round",
   "metadata": {},
   "outputs": [],
   "source": [
    "#In this webpage, the data is in two places, this is for the small square up \n",
    "gen_text = soup_1.find('div','fl100 pl15px')"
   ]
  },
  {
   "cell_type": "code",
   "execution_count": 8,
   "id": "blocked-usage",
   "metadata": {},
   "outputs": [
    {
     "data": {
      "text/plain": [
       "'Programador/a - para JAVA /Oracle Recién Egresados'"
      ]
     },
     "execution_count": 8,
     "metadata": {},
     "output_type": "execute_result"
    }
   ],
   "source": [
    "job_title = gen_text.find('h1','m0').text.strip()\n",
    "job_title"
   ]
  },
  {
   "cell_type": "code",
   "execution_count": 9,
   "id": "neutral-minutes",
   "metadata": {},
   "outputs": [
    {
     "data": {
      "text/plain": [
       "'$ 7.000,00 (Mensual)\\xa0·\\xa0                                                Benito Juárez,                         Ciudad de México DF\\xa0·\\xa0                        Hoy, 08:33 a. m.'"
      ]
     },
     "execution_count": 9,
     "metadata": {},
     "output_type": "execute_result"
    }
   ],
   "source": [
    "job_location_date = gen_text.find('p','fc80 mt5').text.strip().replace('\\n','').replace('\\r','')\n",
    "job_location_date"
   ]
  },
  {
   "cell_type": "code",
   "execution_count": 11,
   "id": "configured-thong",
   "metadata": {},
   "outputs": [
    {
     "data": {
      "text/plain": [
       "'SAC-WALABI S.A. DE C.V.'"
      ]
     },
     "execution_count": 11,
     "metadata": {},
     "output_type": "execute_result"
    }
   ],
   "source": [
    "company = gen_text.find('div','fl100').text.strip()"
   ]
  },
  {
   "cell_type": "code",
   "execution_count": 19,
   "id": "automated-shopper",
   "metadata": {},
   "outputs": [
    {
     "data": {
      "text/plain": [
       "<section class=\"boxWhite fl w_100 detail_of mb20 bWord\">\n",
       "<span itemscope=\"\" itemtype=\"http://schema.org/JobPosting\" style=\"display:none\"><meta content=\"Programador/a - para JAVA /Oracle Recién Egresados\" itemprop=\"title\"/><meta content=\"Solicitamos Becarios para Programación Java/ Oracle. Recién Egresados de Ingeniería o Licenciatura en Informática, Computación, Ciencias de la Informática, Matemáticas, Actuaría o carrera a fin.&lt;br/&gt;Pasantes o Titulados.&lt;br/&gt;&lt;br/&gt;Carrera profesional concluida SI PASANTES, NO TRUNCO, NO ESTUDIANTES (Tiempo Completo)&lt;br/&gt;Sexo: indistinto&lt;br/&gt;Salario $7,000.00 mensuales&lt;br/&gt;Horario Tiempo completo de lunes a Viernes de 09:30- 19:00 incluye horario de alimentos&lt;br/&gt;&lt;br/&gt;El lugar de trabajo es en WTC- Ciudad de México, por la actual situación de pandemia ofrecemos disponibilidad de Home Office, y a futuro en oficinas o mixto.&lt;br/&gt;&lt;br/&gt;SAC-WALABI es una empresa mexicana dedicada al Desarrollo de Software; con experiencia es en el sector financiero, para clientes extranjeros con presencia en México.-Requerimientos- Educación mínima: Educación superior - Licenciatura&lt;br/&gt;Idiomas: Español ,Inglés &lt;br/&gt;Edad: entre 22 y 27 años&lt;br/&gt;Disponibilidad de viajar: No&lt;br/&gt;Disponibilidad de cambio de residencia: No&lt;br/&gt;\" itemprop=\"description\"/><meta content=\"Informática / Software\" itemprop=\"industry\"/><meta content=\"2021-01-25\" itemprop=\"datePosted\"/><meta content=\"FULL_TIME\" itemprop=\"employmentType\"/><span itemprop=\"jobLocation\" itemscope=\"\" itemtype=\"http://schema.org/Place\" style=\"display:none\"><span itemprop=\"address\" itemscope=\"\" itemtype=\"http://schema.org/PostalAddress\" style=\"display:none\"><meta content=\"Ciudad de México DF\" itemprop=\"addressLocality\"/><meta content=\"Benito Juárez\" itemprop=\"addressRegion\"/><meta content=\"México\" itemprop=\"addressCountry\"/></span></span><meta content=\"MXN\" itemprop=\"salaryCurrency\"/><span itemprop=\"baseSalary\" itemscope=\"\" itemtype=\"http://schema.org/MonetaryAmount\" style=\"display:none\"><meta content=\"MXN\" itemprop=\"currency\"/><span itemprop=\"value\" itemscope=\"\" itemtype=\"http://schema.org/QuantitativeValue\" style=\"display:none\"><meta content=\"7000\" itemprop=\"value\"/><meta content=\"MONTH\" itemprop=\"unitText\"/></span></span><span itemprop=\"hiringOrganization\" itemscope=\"\" itemtype=\"http://schema.org/Organization\" style=\"display:none\"><meta content=\"SAC-WALABI S.A. DE C.V.\" itemprop=\"name\"/></span><span itemprop=\"identifier\" itemscope=\"\" itemtype=\"http://schema.org/PropertyValue\" style=\"display:none\"><meta content=\"6DAC3E5BB600B70C61373E686DCF3405\" itemprop=\"value\"/><meta content=\"SAC-WALABI S.A. DE C.V.\" itemprop=\"name\"/></span><meta content=\"https://www.computrabajo.com.mx/ofertas-de-trabajo/oferta-de-trabajo-de-programadora-para-java-oracle-recien-egresados-en-benito-juarez-6DAC3E5BB600B70C61373E686DCF3405\" itemprop=\"url\"/></span>\n",
       "<ul class=\"p0 m0\">\n",
       "<li><h3 class=\"mt0\">Descripción</h3></li>\n",
       "<li>Solicitamos Becarios para Programación Java/ Oracle. Recién Egresados de Ingeniería o Licenciatura en Informática, Computación, Ciencias de la Informática, Matemáticas, Actuaría o carrera a fin.<br/><br/>Pasantes o Titulados.<br/><br/>Carrera profesional concluida SI PASANTES, NO TRUNCO, NO ESTUDIANTES (Tiempo Completo)<br/><br/>Sexo: indistinto<br/><br/>Salario $7,000.00 mensuales<br/><br/>Horario Tiempo completo de lunes a Viernes de 09:30- 19:00 incluye horario de alimentos<br/><br/>El lugar de trabajo es en WTC- Ciudad de México, por la actual situación de pandemia ofrecemos disponibilidad de Home Office, y a futuro en oficinas o mixto.<br/><br/>SAC-WALABI es una empresa mexicana dedicada al Desarrollo de Software; con experiencia es en el sector financiero, para clientes extranjeros con presencia en México.</li>\n",
       "<li><h3>Requerimientos</h3></li>\n",
       "<li>Educación mínima: Educación superior - Licenciatura</li><li>Idiomas: Español ,Inglés </li><li>Edad: entre 22 y 27 años</li><li>Disponibilidad de viajar: No</li><li>Disponibilidad de cambio de residencia: No</li>\n",
       "</ul>\n",
       "<div class=\"clearfix fl w_100\" id=\"stop\"></div>\n",
       "<div class=\"btn_postular\" id=\"it-fixed-apply\">\n",
       "<a class=\"submit_n boton js-t-d\" href=\"https://candidato.computrabajo.com.mx/match/?oi=6DAC3E5BB600B70C61373E686DCF3405&amp;p=47&amp;idb=1\" rel=\"nofollow\">\n",
       "                        Postularme\n",
       "                    </a>\n",
       "</div>\n",
       "<div class=\"clearfix\"></div>\n",
       "<div class=\"tc mt20\">\n",
       "                        Para ver datos de contacto <a class=\"js-t-d\" href=\"https://candidato.computrabajo.com.mx/match/?oi=6DAC3E5BB600B70C61373E686DCF3405&amp;p=47&amp;idb=1\">envía tu cv</a>\n",
       "</div>\n",
       "</section>"
      ]
     },
     "execution_count": 19,
     "metadata": {},
     "output_type": "execute_result"
    }
   ],
   "source": [
    "gen_description = soup_1.find('section','boxWhite fl w_100 detail_of mb20 bWord')\n",
    "gen_description"
   ]
  },
  {
   "cell_type": "code",
   "execution_count": 35,
   "id": "split-lyric",
   "metadata": {},
   "outputs": [
    {
     "data": {
      "text/plain": [
       "'Programador/a - para JAVA /Oracle Recién Egresados'"
      ]
     },
     "execution_count": 35,
     "metadata": {},
     "output_type": "execute_result"
    }
   ],
   "source": [
    "example = gen_description.span\n",
    "example.find('meta',itemprop='title')['content']\n",
    "\n",
    "job_title = example.find('meta',itemprop='title')['content']"
   ]
  },
  {
   "cell_type": "code",
   "execution_count": 39,
   "id": "middle-penny",
   "metadata": {},
   "outputs": [
    {
     "data": {
      "text/plain": [
       "'Solicitamos Becarios para Programación Java/ Oracle. Recién Egresados de Ingeniería o Licenciatura en Informática, Computación, Ciencias de la Informática, Matemáticas, Actuaría o carrera a fin. Pasantes o Titulados.  Carrera profesional concluida SI PASANTES, NO TRUNCO, NO ESTUDIANTES (Tiempo Completo) Sexo: indistinto Salario $7,000.00 mensuales Horario Tiempo completo de lunes a Viernes de 09:30- 19:00 incluye horario de alimentos  El lugar de trabajo es en WTC- Ciudad de México, por la actual situación de pandemia ofrecemos disponibilidad de Home Office, y a futuro en oficinas o mixto.  SAC-WALABI es una empresa mexicana dedicada al Desarrollo de Software; con experiencia es en el sector financiero, para clientes extranjeros con presencia en México.-Requerimientos- Educación mínima: Educación superior - Licenciatura Idiomas: Español ,Inglés  Edad: entre 22 y 27 años Disponibilidad de viajar: No Disponibilidad de cambio de residencia: No '"
      ]
     },
     "execution_count": 39,
     "metadata": {},
     "output_type": "execute_result"
    }
   ],
   "source": [
    "job_summary = example.find('meta',itemprop='description')['content'].replace('<br/>',' ')"
   ]
  },
  {
   "cell_type": "code",
   "execution_count": 40,
   "id": "advance-painting",
   "metadata": {},
   "outputs": [
    {
     "data": {
      "text/plain": [
       "'Informática / Software'"
      ]
     },
     "execution_count": 40,
     "metadata": {},
     "output_type": "execute_result"
    }
   ],
   "source": [
    "job_industry = example.find('meta',itemprop='industry')['content']"
   ]
  },
  {
   "cell_type": "code",
   "execution_count": 41,
   "id": "greek-purse",
   "metadata": {},
   "outputs": [
    {
     "data": {
      "text/plain": [
       "'2021-01-25'"
      ]
     },
     "execution_count": 41,
     "metadata": {},
     "output_type": "execute_result"
    }
   ],
   "source": [
    "job_date_posted = example.find('meta',itemprop='datePosted')['content']"
   ]
  },
  {
   "cell_type": "code",
   "execution_count": 42,
   "id": "egyptian-lawsuit",
   "metadata": {},
   "outputs": [
    {
     "data": {
      "text/plain": [
       "'FULL_TIME'"
      ]
     },
     "execution_count": 42,
     "metadata": {},
     "output_type": "execute_result"
    }
   ],
   "source": [
    "job_type = example.find('meta',itemprop='employmentType')['content']"
   ]
  },
  {
   "cell_type": "code",
   "execution_count": 43,
   "id": "blessed-ministry",
   "metadata": {},
   "outputs": [
    {
     "data": {
      "text/plain": [
       "'Ciudad de México DF'"
      ]
     },
     "execution_count": 43,
     "metadata": {},
     "output_type": "execute_result"
    }
   ],
   "source": [
    "job_location = example.find('meta',itemprop='addressLocality')['content']"
   ]
  },
  {
   "cell_type": "code",
   "execution_count": 44,
   "id": "relative-explosion",
   "metadata": {},
   "outputs": [
    {
     "data": {
      "text/plain": [
       "'7000'"
      ]
     },
     "execution_count": 44,
     "metadata": {},
     "output_type": "execute_result"
    }
   ],
   "source": [
    "job_salary = example.find('meta',itemprop='value')['content']"
   ]
  },
  {
   "cell_type": "code",
   "execution_count": 45,
   "id": "proof-vision",
   "metadata": {},
   "outputs": [
    {
     "data": {
      "text/plain": [
       "'MONTH'"
      ]
     },
     "execution_count": 45,
     "metadata": {},
     "output_type": "execute_result"
    }
   ],
   "source": [
    "job_salary_freq = example.find('meta',itemprop='unitText')['content']"
   ]
  },
  {
   "cell_type": "code",
   "execution_count": 47,
   "id": "affected-charter",
   "metadata": {},
   "outputs": [
    {
     "data": {
      "text/plain": [
       "'SAC-WALABI S.A. DE C.V.'"
      ]
     },
     "execution_count": 47,
     "metadata": {},
     "output_type": "execute_result"
    }
   ],
   "source": [
    "company_name_sec = example.find('meta',itemprop='name')['content']"
   ]
  },
  {
   "cell_type": "code",
   "execution_count": 48,
   "id": "inside-laser",
   "metadata": {},
   "outputs": [
    {
     "data": {
      "text/plain": [
       "'https://www.computrabajo.com.mx/ofertas-de-trabajo/oferta-de-trabajo-de-programadora-para-java-oracle-recien-egresados-en-benito-juarez-6DAC3E5BB600B70C61373E686DCF3405'"
      ]
     },
     "execution_count": 48,
     "metadata": {},
     "output_type": "execute_result"
    }
   ],
   "source": [
    "job_url = example.find('meta',itemprop='url')['content']"
   ]
  },
  {
   "cell_type": "code",
   "execution_count": null,
   "id": "higher-noise",
   "metadata": {},
   "outputs": [],
   "source": []
  }
 ],
 "metadata": {
  "kernelspec": {
   "display_name": "Python 3",
   "language": "python",
   "name": "python3"
  },
  "language_info": {
   "codemirror_mode": {
    "name": "ipython",
    "version": 3
   },
   "file_extension": ".py",
   "mimetype": "text/x-python",
   "name": "python",
   "nbconvert_exporter": "python",
   "pygments_lexer": "ipython3",
   "version": "3.7.5"
  }
 },
 "nbformat": 4,
 "nbformat_minor": 5
}
