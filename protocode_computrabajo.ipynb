{
 "cells": [
  {
   "cell_type": "code",
   "execution_count": 17,
   "id": "chronic-modification",
   "metadata": {},
   "outputs": [],
   "source": [
    "import requests\n",
    "from bs4 import BeautifulSoup\n",
    "import selenium \n",
    "import urllib\n",
    "import pandas as pd"
   ]
  },
  {
   "cell_type": "code",
   "execution_count": 18,
   "id": "hairy-gazette",
   "metadata": {},
   "outputs": [],
   "source": [
    "url = 'https://www.computrabajo.com.mx/trabajo-de-programador-en-ciudad-de-mexico?q=programador'\n",
    "page = requests.get(url)\n",
    "soup = BeautifulSoup(page.content, \"html.parser\")"
   ]
  },
  {
   "cell_type": "code",
   "execution_count": null,
   "id": "gross-strand",
   "metadata": {},
   "outputs": [],
   "source": [
    "cards = soup.find_all('div','iO')\n",
    "cards"
   ]
  },
  {
   "cell_type": "code",
   "execution_count": 20,
   "id": "declared-stable",
   "metadata": {},
   "outputs": [
    {
     "data": {
      "text/plain": [
       "<div class=\"iO\">\n",
       "<div class=\"lU\"><span>Se precisa Urgente</span></div>\n",
       "<h2 class=\"tO\"><a class=\"js-o-link\" href=\"/ofertas-de-trabajo/oferta-de-trabajo-de-programador-tiempo-completo-en-la-magdalena-contreras-0259435C91E0586E61373E686DCF3405\">Programador</a></h2>\n",
       "<div class=\"w_100 fl mtb5 lT\">\n",
       "<span>\n",
       "<span itemprop=\"name\">\n",
       "<a class=\"fc_blue\" href=\"https://www.computrabajo.com.mx/empresas/ofertas-de-trabajo-de-rh-reclutamiento-901B330D86147233\" style=\"color: #1e82c4;\" target=\"_blank\">RH RECLUTAMIENTO</a>\n",
       "</span>\n",
       "<a class=\"empr it-blank\" href=\"https://www.computrabajo.com.mx/empresas/evaluaciones-en-rh-reclutamiento-901B330D86147233\" style=\"color: #1e82c4;\" target=\"_blank\">\n",
       "<span class=\"val_rate\">\n",
       "<span class=\"stars\">\n",
       "<div class=\"rate\">\n",
       "<span class=\"graystar\"></span>\n",
       "<span class=\"graystar\"></span>\n",
       "<span class=\"graystar\"></span>\n",
       "<span class=\"graystar\"></span>\n",
       "<span class=\"grayheart\"></span>\n",
       "</div>\n",
       "<div class=\"rate\" style=\"width:70px\">\n",
       "<span class=\"goldstar\"></span>\n",
       "<span class=\"goldstar\"></span>\n",
       "<span class=\"goldstar\"></span>\n",
       "<span class=\"goldstar\"></span>\n",
       "<span class=\"heartFull\"></span>\n",
       "</div>\n",
       "</span>\n",
       "<span class=\"valoracions\">\n",
       "                14  evaluaciones\n",
       "            </span>\n",
       "</span>\n",
       "</a>\n",
       "</span> - <span>\n",
       "<span>\n",
       "<span itemprop=\"addressLocality\"><a href=\"/empleos-en-ciudad-de-mexico\">Ciudad de México DF</a></span>\n",
       ",                             <span itemprop=\"addressRegion\"><a href=\"/empleos-en-la-magdalena-contreras\">La Magdalena Contreras</a></span>\n",
       "</span>\n",
       "</span>\n",
       "</div>\n",
       "<p>INTERMEDIA WEB Somos una empresa dedicada al monitoreo de medios de comunicación, formado por profesionales en la...</p>\n",
       "<span class=\"dO\">22 enero</span>\n",
       "</div>"
      ]
     },
     "execution_count": 20,
     "metadata": {},
     "output_type": "execute_result"
    }
   ],
   "source": [
    "example = cards[0]\n",
    "example"
   ]
  },
  {
   "cell_type": "code",
   "execution_count": 22,
   "id": "suitable-emphasis",
   "metadata": {},
   "outputs": [
    {
     "data": {
      "text/plain": [
       "'https://www.computrabajo.com.mx/ofertas-de-trabajo/oferta-de-trabajo-de-programador-tiempo-completo-en-la-magdalena-contreras-0259435C91E0586E61373E686DCF3405'"
      ]
     },
     "execution_count": 22,
     "metadata": {},
     "output_type": "execute_result"
    }
   ],
   "source": [
    "atag = example.h2.a\n",
    "job_url = 'https://www.computrabajo.com.mx' + atag.get('href')\n",
    "job_url"
   ]
  },
  {
   "cell_type": "code",
   "execution_count": null,
   "id": "freelance-screw",
   "metadata": {},
   "outputs": [],
   "source": [
    "page_1 = requests.get(job_url)\n",
    "soup_1 = BeautifulSoup(page_1.content, \"html.parser\")\n",
    "print(soup_1.prettify)"
   ]
  },
  {
   "cell_type": "code",
   "execution_count": 32,
   "id": "broadband-bikini",
   "metadata": {},
   "outputs": [],
   "source": [
    "gen_text = soup_1.find('div','fl100 pl15px')"
   ]
  },
  {
   "cell_type": "code",
   "execution_count": 43,
   "id": "accomplished-connecticut",
   "metadata": {},
   "outputs": [
    {
     "data": {
      "text/plain": [
       "'Programador - Tiempo Completo'"
      ]
     },
     "execution_count": 43,
     "metadata": {},
     "output_type": "execute_result"
    }
   ],
   "source": [
    "job_title = gen_text.find('h1','m0').text.strip()\n",
    "job_title"
   ]
  },
  {
   "cell_type": "code",
   "execution_count": 46,
   "id": "sought-league",
   "metadata": {},
   "outputs": [
    {
     "data": {
      "text/plain": [
       "'La Magdalena Contreras,                         Ciudad de México DF\\xa0·\\xa0                        22 enero (actualizada)'"
      ]
     },
     "execution_count": 46,
     "metadata": {},
     "output_type": "execute_result"
    }
   ],
   "source": [
    "job_location_date = gen_text.find('p','fc80 mt5').text.strip().replace('\\n','').replace('\\r','')\n",
    "job_location_date"
   ]
  },
  {
   "cell_type": "code",
   "execution_count": 49,
   "id": "smooth-eagle",
   "metadata": {},
   "outputs": [
    {
     "ename": "AttributeError",
     "evalue": "'NoneType' object has no attribute 'text'",
     "output_type": "error",
     "traceback": [
      "\u001b[0;31m---------------------------------------------------------------------------\u001b[0m",
      "\u001b[0;31mAttributeError\u001b[0m                            Traceback (most recent call last)",
      "\u001b[0;32m<ipython-input-49-6c563c128180>\u001b[0m in \u001b[0;36m<module>\u001b[0;34m\u001b[0m\n\u001b[0;32m----> 1\u001b[0;31m \u001b[0mgen_text\u001b[0m\u001b[0;34m.\u001b[0m\u001b[0mfind\u001b[0m\u001b[0;34m(\u001b[0m\u001b[0;34m'h2'\u001b[0m\u001b[0;34m,\u001b[0m\u001b[0;34m'urlverofertas'\u001b[0m\u001b[0;34m)\u001b[0m\u001b[0;34m.\u001b[0m\u001b[0mtext\u001b[0m\u001b[0;34m\u001b[0m\u001b[0;34m\u001b[0m\u001b[0m\n\u001b[0m",
      "\u001b[0;31mAttributeError\u001b[0m: 'NoneType' object has no attribute 'text'"
     ]
    }
   ],
   "source": [
    "gen_text.find('h2','urlverofertas').text"
   ]
  },
  {
   "cell_type": "code",
   "execution_count": null,
   "id": "sticky-violence",
   "metadata": {},
   "outputs": [],
   "source": []
  }
 ],
 "metadata": {
  "kernelspec": {
   "display_name": "Python 3",
   "language": "python",
   "name": "python3"
  },
  "language_info": {
   "codemirror_mode": {
    "name": "ipython",
    "version": 3
   },
   "file_extension": ".py",
   "mimetype": "text/x-python",
   "name": "python",
   "nbconvert_exporter": "python",
   "pygments_lexer": "ipython3",
   "version": "3.7.5"
  }
 },
 "nbformat": 4,
 "nbformat_minor": 5
}
